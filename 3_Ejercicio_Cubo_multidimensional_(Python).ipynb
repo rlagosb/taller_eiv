{
  "nbformat": 4,
  "nbformat_minor": 0,
  "metadata": {
    "colab": {
      "provenance": [],
      "include_colab_link": true
    },
    "kernelspec": {
      "name": "python3",
      "display_name": "Python 3"
    },
    "language_info": {
      "name": "python"
    }
  },
  "cells": [
    {
      "cell_type": "markdown",
      "metadata": {
        "id": "view-in-github",
        "colab_type": "text"
      },
      "source": [
        "<a href=\"https://colab.research.google.com/github/rlagosb/taller_eiv/blob/main/3_Ejercicio_Cubo_multidimensional_(Python).ipynb\" target=\"_parent\"><img src=\"https://colab.research.google.com/assets/colab-badge.svg\" alt=\"Open In Colab\"/></a>"
      ]
    },
    {
      "cell_type": "markdown",
      "source": [
        "# Ejercicio: creación de un cubo\n",
        "En este ejercicio vamos a armar una tabla de datos multidimensional para el análisis de las brechas de consultas de especialidad médica (CNE). Para ello haremos lo siguiente:\n",
        "\n",
        "1. Generar un modelo estrella con las métricas y dimensiones de análisis\n",
        "\n",
        "2. Generar tablas fact y dimensiones\n",
        "\n",
        "3. Exportar a excel"
      ],
      "metadata": {
        "id": "O35LLCKgccq-"
      }
    },
    {
      "cell_type": "markdown",
      "source": [
        " # Configurar área de trabajo"
      ],
      "metadata": {
        "id": "m1djU6wEMcAv"
      }
    },
    {
      "cell_type": "code",
      "execution_count": null,
      "metadata": {
        "id": "65ha1Po6cZm8"
      },
      "outputs": [],
      "source": [
        "# importar librerías\n",
        "import pandas as pd\n",
        "import os\n",
        "\n",
        "# definir carpetas de trabajo\n",
        "datos_normalizados = 'https://github.com/rlagosb/taller_eiv/raw/refs/heads/main/datos_normalizados/'\n",
        "datos_cubos = '/content/cubos/'\n",
        "if not os.path.exists(datos_cubos): os.makedirs(datos_cubos)\n",
        "\n",
        "# cargar datos\n",
        "centros = pd.read_parquet(datos_normalizados + 'Centros.parquet')\n",
        "especialidades = pd.read_parquet(datos_normalizados + 'Especialidades.parquet')\n",
        "demanda = pd.read_parquet(datos_normalizados + 'Demanda.parquet')\n",
        "produccion = pd.read_parquet(datos_normalizados + 'Produccion.parquet')"
      ]
    },
    {
      "cell_type": "markdown",
      "source": [
        "# Crear tabla FACT\n",
        "Construiremos una tabla con los campos:\n",
        "\n",
        "- Centro_cod: código del centro de salud\n",
        "- Especialidad_cod: código de la especialidad médica (prestación)\n",
        "- Mes: mes del año 2021\n",
        "- CNE_solicitadas: solicitudes de interconsultas recibidas por establecimiento, especialidad y mes\n",
        "- CNE_producidas: consultas nuevas de especialidad producidas por establecimientos, especialidad y mes\n",
        "\n"
      ],
      "metadata": {
        "id": "li_nAEiDP8yn"
      }
    },
    {
      "cell_type": "code",
      "source": [
        "# Examinemos los campos que tienen las tablas de demanda y producción\n",
        "# Con el cruce de estas tablas podemos obtener las métricas fundamentales para el análisis\n",
        "print(demanda.head(3), end='\\n\\n')\n",
        "print(produccion.head(3))"
      ],
      "metadata": {
        "id": "PicCHR0eR0yX"
      },
      "execution_count": null,
      "outputs": []
    },
    {
      "cell_type": "code",
      "source": [
        "# Construimos una función para generar la tabla fact\n",
        "\n",
        "def generar_tabla_fact():\n",
        "\n",
        "  # Obtener datos de demanda y producción de consultas nuevas\n",
        "  dda = demanda[['Centro_destino','Especialidad','Mes','Interconsultas']].copy()\n",
        "  dda = dda.rename(columns={'Centro_destino':'Centro_cod','Especialidad':'Especialidad_cod','Interconsultas':'CNE_solicitadas'})\n",
        "  prod = produccion[['Centro','Codigo','Mes','Nuevas']].copy()\n",
        "  prod = prod.rename(columns={'Centro':'Centro_cod','Codigo':'Especialidad_cod','Nuevas':'CNE_producidas'})\n",
        "\n",
        "  # Cruzar producción y demanda\n",
        "  fact = dda.merge(prod, how='outer', on = ['Centro_cod','Especialidad_cod','Mes'])\n",
        "\n",
        "  # Complatemos los campos vacíos con 0 y guardamos las métricas como números enteros\n",
        "  fact.fillna(0, inplace=True)\n",
        "  fact[['CNE_solicitadas','CNE_producidas']] = fact[['CNE_solicitadas','CNE_producidas']].astype(int)\n",
        "  return fact\n",
        "\n",
        "# Guardamos y revisamos la tabla resultante\n",
        "fact = generar_tabla_fact()\n",
        "print(fact.describe)"
      ],
      "metadata": {
        "id": "hbelFXlzWwaw"
      },
      "execution_count": null,
      "outputs": []
    },
    {
      "cell_type": "markdown",
      "source": [
        "## 🏁 Discusión\n",
        "1. ¿Cuáles son las métricas que registra esta tabla?\n",
        "1. ¿Cuáles son los hechos que registra esta tabla? ¿Cuántos exiten?\n",
        "2. ¿Cuál es el nivel de detalle con que se describen los hechos (granularidad)?\n",
        "1. ¿A partir de esta tabla es posible consultar los hechos a nivel diario? ¿Trimestral? ¿Anual?"
      ],
      "metadata": {
        "id": "lwAqspCcsMX9"
      }
    },
    {
      "cell_type": "markdown",
      "source": [
        "# Dimensión Periodo\n",
        "Aunque nuestro análisis sólo considera un año, podríamos querer analizar los datos a nivel trimestral o anual. Construiremos una tabla con los campos\n",
        "\n",
        "- Mes: llave primaria\n",
        "- Trimestre\n",
        "- Año\n",
        "\n",
        "**⚠** Si trabajáramos con múltiples años necesitaríamos definir otra llave primaria para esta dimensión"
      ],
      "metadata": {
        "id": "-dhGGUpO75-P"
      }
    },
    {
      "cell_type": "code",
      "source": [
        "# Creamos un dataframe vacío para agregar los campos\n",
        "dim_periodo = pd.DataFrame()\n",
        "dim_periodo['Mes'] = range(1,13)\n",
        "dim_periodo['Trimestre'] = [1,1,1,2,2,2,3,3,3,4,4,4]\n",
        "dim_periodo['Año'] = 2021\n",
        "dim_periodo"
      ],
      "metadata": {
        "id": "_ELjsevv8ciQ"
      },
      "execution_count": null,
      "outputs": []
    },
    {
      "cell_type": "markdown",
      "source": [
        "# Dimensión Especialidad\n",
        "Crearemos una tabla con los siguientes campos:\n",
        "\n",
        "- Especialidad_cod: código de la especialidad (llave primaria)\n",
        "- Especialidad: nombre de la especialidad\n",
        "- Alto_riesgo: especialidad con mayor mortalidad para tiempos de espera extensos según Martínez et al ([2019](https://doi.org/10.1186/s12889-019-6526-6))\n",
        "- REM: si se incluye en reportes estadísticos mensuales\n"
      ],
      "metadata": {
        "id": "AEbpZGMyteOF"
      }
    },
    {
      "cell_type": "code",
      "source": [
        "# Examinemos la tabla especialidades para identificar los campos existentes y los que faltan\n",
        "especialidades.sample(5)"
      ],
      "metadata": {
        "id": "ShKL6g3DuQvF"
      },
      "execution_count": null,
      "outputs": []
    },
    {
      "cell_type": "code",
      "source": [
        "# Generemos la dimensión especialidad con una función especial\n",
        "\n",
        "def crear_dim_especialidades():\n",
        "\n",
        "  # creamos una copia de especialidades con los campos que necesitamos\n",
        "  esp = especialidades[['Codigo','Nombre','Codigo_rem']].copy()\n",
        "\n",
        "  esp.rename(columns={'Codigo':'Especialidad_cod',\n",
        "                      'Nombre':'Especialidad'},\n",
        "             inplace = True)\n",
        "\n",
        "  # Generamos campo REM\n",
        "  esp['Especialidad_REM'] = 'No'\n",
        "  esp.loc[esp['Codigo_rem'].notna(), 'Especialidad_REM'] = 'Si'\n",
        "  del esp['Codigo_rem']\n",
        "\n",
        "  # Identificamos las especialidades de alto riesgo: CARDIOLOGIA, CIRUGIA CARDIOVASCULAR, GASTROENTEROLOGIA ADULTO, NEFROLOGIA ADULTO, NEUROLOGIA ADULTO, UROLOGIA\n",
        "  esp['Riesgo_mortalidad'] = 'No'\n",
        "  alto_riesgo = ['07-003','07-006','07-018','07-037','07-041','07-054']\n",
        "  esp.loc[esp['Especialidad_cod'].isin(alto_riesgo), 'Riesgo_mortalidad'] = 'Si'\n",
        "\n",
        "  return esp\n",
        "\n",
        "dim_especialidad = crear_dim_especialidades()\n",
        "\n",
        "# Veamos el resultado\n",
        "print(dim_especialidad.info())\n",
        "dim_especialidad.sample(5)"
      ],
      "metadata": {
        "id": "jiVT5whQu7JO"
      },
      "execution_count": null,
      "outputs": []
    },
    {
      "cell_type": "markdown",
      "source": [
        "## 🏁 Discusión\n",
        "1. ¿Qué diferencia a esta tabla de la tabla normalizada *Especialidades*?\n",
        "2. ¿Cuál es el propósito de cada una?"
      ],
      "metadata": {
        "id": "EOSqsY2r7u8Y"
      }
    },
    {
      "cell_type": "markdown",
      "source": [
        "# 🍎 Desafío: Crear Dimensión Establecimiento\n",
        "Cree un dataframe `dim_centro` con los siguientes campos:\n",
        "\n",
        "- Centro_cod: código DEIS del centro (llave primaria)\n",
        "- Centro: nombre del centro de salud\n",
        "- Complejidad: nivel de complejidad del centro\n",
        "- Servicio: Servicio de Salud del cual depende"
      ],
      "metadata": {
        "id": "OEj82d9jJaC1"
      }
    },
    {
      "cell_type": "code",
      "source": [
        "dim_centro = centros[['Codigo','Nombre','Dependencia','Nivel de Complejidad']].copy()\n",
        "dim_centro.rename(columns={'Codigo':'Centro_cod',\n",
        "                           'Nombre':'Centro',\n",
        "                           'Nivel de Complejidad':'Complejidad',\n",
        "                           'Dependencia':'Servicio'},\n",
        "                  inplace=True)\n",
        "dim_centro"
      ],
      "metadata": {
        "id": "DVNErWPdAA6Y"
      },
      "execution_count": null,
      "outputs": []
    },
    {
      "cell_type": "markdown",
      "source": [
        "# Cubo\n",
        "Generamos una tabla multidimensional uniendo la tabla Fact con las dimensiones utilizando las llaves."
      ],
      "metadata": {
        "id": "5LXVJJ0fQpWM"
      }
    },
    {
      "cell_type": "code",
      "source": [
        "cubo = fact.merge(dim_especialidad,\n",
        "                    how='left',\n",
        "                    on = 'Especialidad_cod')\n",
        "\n",
        "cubo = cubo.merge(dim_centro,\n",
        "                  how = 'left',\n",
        "                  on = 'Centro_cod')\n",
        "\n",
        "cubo = cubo.merge(dim_periodo,\n",
        "                  how ='left',\n",
        "                  on = 'Mes')\n",
        "\n",
        "cubo.sample(5)"
      ],
      "metadata": {
        "id": "eqLQNhb5QnTm"
      },
      "execution_count": null,
      "outputs": []
    },
    {
      "cell_type": "code",
      "source": [
        "# Exportamos a la carpeta con los cubos\n",
        "cubo.to_excel(datos_cubos + 'Cubo_brechas_CNE.xlsx', index = False)"
      ],
      "metadata": {
        "id": "U8TzZuAgVCvL"
      },
      "execution_count": null,
      "outputs": []
    },
    {
      "cell_type": "markdown",
      "source": [
        "## 🏁 Discusión\n",
        "1. ¿Qué campos tienen redundancias? (¿Cuál forma normal no se cumple?)\n",
        "3. ¿Cuál es el propósito de introducir esta redundancia?\n",
        "4. ¿Existe el riesgo que se produzan inconsistencias en los nombres de los centros o especialidades?\n",
        "1. ¿Qué cambios tendría que hacer a esta tabla si tuviera:\n",
        "  - Datos del 2021 al 2024?\n",
        "  - Datos de más establecimientos?"
      ],
      "metadata": {
        "id": "57-TXjbm7P5A"
      }
    }
  ]
}