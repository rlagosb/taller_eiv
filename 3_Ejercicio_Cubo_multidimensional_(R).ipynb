{
  "nbformat": 4,
  "nbformat_minor": 0,
  "metadata": {
    "colab": {
      "provenance": [],
      "toc_visible": true,
      "include_colab_link": true
    },
    "kernelspec": {
      "name": "ir",
      "display_name": "R"
    },
    "language_info": {
      "name": "R"
    }
  },
  "cells": [
    {
      "cell_type": "markdown",
      "metadata": {
        "id": "view-in-github",
        "colab_type": "text"
      },
      "source": [
        "<a href=\"https://colab.research.google.com/github/rlagosb/taller_eiv/blob/main/3_Ejercicio_Cubo_multidimensional_(R).ipynb\" target=\"_parent\"><img src=\"https://colab.research.google.com/assets/colab-badge.svg\" alt=\"Open In Colab\"/></a>"
      ]
    },
    {
      "cell_type": "markdown",
      "source": [
        "# Ejercicio: creación de un cubo\n",
        "En este ejercicio vamos a armar una tabla de datos multidimensional para el análisis de las brechas de consultas de especialidad médica (CNE). Para ello haremos lo siguiente:\n",
        "\n",
        "1. Generar un modelo estrella con las métricas y dimensiones de análisis\n",
        "\n",
        "2. Generar tablas fact y dimensiones\n",
        "\n",
        "3. Exportar a excel"
      ],
      "metadata": {
        "id": "O35LLCKgccq-"
      }
    },
    {
      "cell_type": "markdown",
      "source": [
        " # Configurar área de trabajo"
      ],
      "metadata": {
        "id": "m1djU6wEMcAv"
      }
    },
    {
      "cell_type": "code",
      "execution_count": null,
      "metadata": {
        "id": "65ha1Po6cZm8"
      },
      "outputs": [],
      "source": [
        "#borrar objetos previos\n",
        "rm(list=ls())\n",
        "#borrar figuras (si hay)\n",
        "while(!dev.cur())dev.off()\n",
        "cat(\"\\014\")\n",
        "\n",
        "# Para manipulación de bases de datos. Si no existe, la instalamos\n",
        "if(!require(dplyr)){install.packages(\"dplyr\")}\n",
        "# Para importar/exportar bases de datos. Si no existe, la instalamos\n",
        "if(!require(rio)){install.packages(\"rio\")}\n",
        "# Para exportar archivos en formato parquet\n",
        "if(!require(arrow)){install.packages(\"arrow\")}\n",
        "if(!require(nanoparquet)){install.packages(\"nanoparquet\")}\n",
        "\n",
        "# definir carpetas de trabajo\n",
        "datos_normalizados <- 'https://github.com/rlagosb/taller_eiv/raw/refs/heads/main/datos_normalizados/'\n",
        "datos_cubos <- './content/cubos/'\n",
        "\n",
        "if (!dir.exists(datos_cubos)){dir.create(datos_cubos, recursive = TRUE)}\n",
        "\n",
        "# cargar datos (concatenamos con paste0 la ubicación de github con el nombre de cada archivo *.parquet a trabajar)\n",
        "centros <- rio::import(paste0(datos_normalizados, \"Centros.parquet\"))\n",
        "especialidades <- rio::import(paste0(datos_normalizados, \"Especialidades.parquet\"))\n",
        "demanda <- rio::import(paste0(datos_normalizados, \"Demanda.parquet\"))\n",
        "produccion <- rio::import(paste0(datos_normalizados, \"Produccion.parquet\"))"
      ]
    },
    {
      "cell_type": "markdown",
      "source": [
        "# Crear tabla FACT\n",
        "Construiremos una tabla con los campos:\n",
        "\n",
        "- Centro_cod: código del centro de salud\n",
        "- Especialidad_cod: código de la especialidad médica (prestación)\n",
        "- Mes: mes del año 2021\n",
        "- CNE_solicitadas: solicitudes de interconsultas recibidas por establecimiento, especialidad y mes\n",
        "- CNE_producidas: consultas nuevas de especialidad producidas por establecimientos, especialidad y mes\n",
        "\n"
      ],
      "metadata": {
        "id": "li_nAEiDP8yn"
      }
    },
    {
      "cell_type": "code",
      "source": [
        "# Examinemos los campos que tienen las tablas de demanda y producción\n",
        "# Con el cruce de estas tablas podemos obtener las métricas fundamentales para el análisis\n",
        "#Tres primeros valores de la base demanda\n",
        "demanda %>% head(3)\n",
        "\n",
        "cat(\"\\n\\n\") #saltos de línea\n",
        "\n",
        "#Tres primeros valores de la base producción\n",
        "produccion %>% head(3)"
      ],
      "metadata": {
        "id": "PicCHR0eR0yX"
      },
      "execution_count": null,
      "outputs": []
    },
    {
      "cell_type": "code",
      "source": [
        "# 1. Seleccionar y renombrar columnas de la tabla demanda\n",
        "dda <- demanda %>%\n",
        "  dplyr::select(Centro_destino, Especialidad, Mes, Interconsultas) %>%  # Seleccionar columnas relevantes\n",
        "  dplyr::rename(\n",
        "    Centro_cod = Centro_destino,       # Renombrar 'Centro_destino' a 'Centro_cod'\n",
        "    Especialidad_cod = Especialidad,   # Renombrar 'Especialidad' a 'Especialidad_cod'\n",
        "    CNE_solicitadas = Interconsultas    # Renombrar 'Interconsultas' a 'CNE_solicitadas'\n",
        "  )\n",
        "\n",
        "# 2. Seleccionar y renombrar columnas de la tabla produccion\n",
        "prod <- produccion %>%\n",
        "  dplyr::select(Centro, Codigo, Mes, Nuevas) %>%  # Seleccionar columnas relevantes\n",
        "  dplyr::rename(\n",
        "    Centro_cod = Centro,              # Renombrar 'Centro' a 'Centro_cod'\n",
        "    Especialidad_cod = Codigo,        # Renombrar 'Codigo' a 'Especialidad_cod'\n",
        "    CNE_producidas = Nuevas            # Renombrar 'Nuevas' a 'CNE_producidas'\n",
        "  )\n",
        "\n",
        "# 3. Realizar una unión completa (outer join) entre demanda y produccion\n",
        "fact <- dda %>%\n",
        "  dplyr::full_join(prod, by = c(\"Centro_cod\", \"Especialidad_cod\", \"Mes\"))  # Unir por las columnas especificadas\n",
        "\n",
        "# 4. Reemplazar valores NA por 0 en las columnas 'CNE_solicitadas' y 'CNE_producidas'\n",
        "# Utilizamos la función 'coalesce' para reemplazar NAs con 0\n",
        "fact <- fact %>%\n",
        "  dplyr::mutate(\n",
        "    CNE_solicitadas = coalesce(CNE_solicitadas, 0),   # Reemplazar NA en 'CNE_solicitadas' por 0\n",
        "    CNE_producidas = coalesce(CNE_producidas, 0)    # Reemplazar NA en 'CNE_producidas' por 0\n",
        "  )\n",
        "\n",
        "# 5. Convertir las columnas 'CNE_solicitadas' y 'CNE_producidas' a enteros\n",
        "fact <- fact %>%\n",
        "  dplyr::mutate(\n",
        "    CNE_solicitadas = as.integer(CNE_solicitadas),   # Convertir a entero\n",
        "    CNE_producidas = as.integer(CNE_producidas)      # Convertir a entero\n",
        "  )\n",
        "\n",
        "# Mostrar la estructura de la tabla resultante\n",
        "str(fact)"
      ],
      "metadata": {
        "id": "hbelFXlzWwaw"
      },
      "execution_count": null,
      "outputs": []
    },
    {
      "cell_type": "markdown",
      "source": [
        "## 🏁 Discusión\n",
        "1. ¿Cuáles son las métricas que registra esta tabla?\n",
        "1. ¿Cuáles son los hechos que registra esta tabla? ¿Cuántos exiten?\n",
        "2. ¿Cuál es el nivel de detalle con que se describen los hechos (granularidad)?\n",
        "1. ¿A partir de esta tabla es posible consultar los hechos a nivel diario? ¿Trimestral? ¿Anual?"
      ],
      "metadata": {
        "id": "lwAqspCcsMX9"
      }
    },
    {
      "cell_type": "markdown",
      "source": [
        "# Dimensión Periodo\n",
        "Aunque nuestro análisis sólo considera un año, podríamos querer analizar los datos a nivel trimestral o anual. Construiremos una tabla con los campos\n",
        "\n",
        "- Mes: llave primaria\n",
        "- Trimestre\n",
        "- Año\n",
        "\n",
        "**⚠** Si trabajáramos con múltiples años necesitaríamos definir otra llave primaria para esta dimensión"
      ],
      "metadata": {
        "id": "-dhGGUpO75-P"
      }
    },
    {
      "cell_type": "code",
      "source": [
        "# Creamos un dataframe vacío para agregar los campos\n",
        "dim_periodo <- cbind.data.frame(\n",
        "  Mes =         1:12,               # Números del 1 al 12 para los meses\n",
        "  Año =         2021,               # Año constante 2021\n",
        "  Trimestre =   rep(1:4, each = 3)  # Asignar trimestre\n",
        ") %>%\n",
        "  dplyr::arrange(Mes)  # Ordenar por Mes para mantener el orden cronológico\n",
        "\n",
        "dim_periodo"
      ],
      "metadata": {
        "id": "_ELjsevv8ciQ"
      },
      "execution_count": null,
      "outputs": []
    },
    {
      "cell_type": "markdown",
      "source": [
        "# Dimensión Especialidad\n",
        "Crearemos una tabla con los siguientes campos:\n",
        "\n",
        "- Especialidad_cod: código de la especialidad (llave primaria)\n",
        "- Especialidad: nombre de la especialidad\n",
        "- Alto_riesgo: especialidad con mayor mortalidad para tiempos de espera extensos según Martínez et al ([2019](https://doi.org/10.1186/s12889-019-6526-6))\n",
        "- REM: si se incluye en reportes estadísticos mensuales\n"
      ],
      "metadata": {
        "id": "AEbpZGMyteOF"
      }
    },
    {
      "cell_type": "code",
      "source": [
        "# Examinemos la tabla especialidades para identificar los campos existentes y los que faltan\n",
        "set.seed(123)#para reproducibilidad\n",
        "especialidades[sample(nrow(especialidades),5),] #tomamos 5 observaciones al azar"
      ],
      "metadata": {
        "id": "ShKL6g3DuQvF"
      },
      "execution_count": null,
      "outputs": []
    },
    {
      "cell_type": "code",
      "source": [
        "# Generemos la dimensión especialidad con una función especial\n",
        "\n",
        "# 1. Seleccionar y renombrar columnas de la tabla especialidades\n",
        "esp <- especialidades %>%\n",
        "  dplyr::select(Codigo, Nombre, Codigo_rem) %>%  # Seleccionar columnas relevantes\n",
        "  dplyr::rename(\n",
        "    Especialidad_cod = Codigo,        # Renombrar 'Codigo' a 'Especialidad_cod'\n",
        "    Especialidad = Nombre             # Renombrar 'Nombre' a 'Especialidad'\n",
        "  )\n",
        "\n",
        "# 2. Generar el campo Especialidad_REM\n",
        "esp <- esp %>%\n",
        "  dplyr::mutate(\n",
        "    Especialidad_REM = ifelse(!is.na(Codigo_rem), \"Si\", \"No\")  # Asignar 'Si' si Codigo_rem no es NA, de lo contrario 'No'\n",
        "  ) %>%\n",
        "  dplyr::select(-Codigo_rem)  # Eliminar la columna 'Codigo_rem'\n",
        "\n",
        " # Identificamos las especialidades de alto riesgo: CARDIOLOGIA, CIRUGIA CARDIOVASCULAR, GASTROENTEROLOGIA ADULTO, NEFROLOGIA ADULTO, NEUROLOGIA ADULTO, UROLOGIA\n",
        "  alto_riesgo <- c('07-003', '07-006', '07-018', '07-037', '07-041', '07-054')  # Lista de códigos de alto riesgo\n",
        "\n",
        "  dim_especialidad <- esp %>%\n",
        "    dplyr::mutate(\n",
        "      Riesgo_mortalidad = ifelse(Especialidad_cod %in% alto_riesgo, \"Si\", \"No\")  # Asignar 'Si' si el código está en alto_riesgo, de lo contrario 'No'\n",
        "    )\n",
        "\n",
        "# Veamos el resultado\n",
        "dplyr::glimpse(dim_especialidad)\n",
        "set.seed(123)#para reproducibilidad\n",
        "especialidades[sample(nrow(especialidades),5),] #tomamos 5 observaciones al azar"
      ],
      "metadata": {
        "id": "jiVT5whQu7JO"
      },
      "execution_count": null,
      "outputs": []
    },
    {
      "cell_type": "markdown",
      "source": [
        "## 🏁 Discusión\n",
        "1. ¿Qué diferencia a esta tabla de la tabla normalizada *Especialidades*?\n",
        "2. ¿Cuál es el propósito de cada una?"
      ],
      "metadata": {
        "id": "EOSqsY2r7u8Y"
      }
    },
    {
      "cell_type": "markdown",
      "source": [
        "# 🍎 Desafío: Crear Dimensión Establecimiento\n",
        "Cree un dataframe `dim_centro` con los siguientes campos:\n",
        "\n",
        "- Centro_cod: código DEIS del centro (llave primaria)\n",
        "- Centro: nombre del centro de salud\n",
        "- Complejidad: nivel de complejidad del centro\n",
        "- Servicio: Servicio de Salud del cual depende"
      ],
      "metadata": {
        "id": "OEj82d9jJaC1"
      }
    },
    {
      "cell_type": "code",
      "source": [
        "dim_centro <- centros %>%\n",
        "  dplyr::select(Codigo, Nombre, Dependencia, `Nivel de Complejidad`) %>%  # Seleccionar columnas relevantes. Ojo que para columnas que contienen espacios o parten con caracteres especiales, dplyr requirere el tilde inverso para llamarlos y manipularlos\n",
        "  dplyr::rename(\n",
        "    Centro_cod    = Codigo,\n",
        "    Centro        = Nombre,\n",
        "    Complejidad   = \"Nivel de Complejidad\",\n",
        "    Servicio      = Dependencia\n",
        "  )\n",
        "#Miramos el resultado\n",
        "dim_centro"
      ],
      "metadata": {
        "id": "DVNErWPdAA6Y"
      },
      "execution_count": null,
      "outputs": []
    },
    {
      "cell_type": "markdown",
      "source": [
        "# Cubo\n",
        "Generamos una tabla multidimensional uniendo la tabla Fact con las dimensiones utilizando las llaves."
      ],
      "metadata": {
        "id": "5LXVJJ0fQpWM"
      }
    },
    {
      "cell_type": "code",
      "source": [
        "cubo <- fact %>%\n",
        "  dplyr::left_join(dim_especialidad, by = \"Especialidad_cod\") %>%  # Unir con dim_especialidad en 'Especialidad_cod'\n",
        "  dplyr::left_join(dim_centro, by = \"Centro_cod\") %>%              # Unir con dim_centro en 'Centro_cod'\n",
        "  dplyr::left_join(dim_periodo, by = \"Mes\")                        # Unir con dim_periodo en 'Mes'\n",
        "\n",
        "set.seed(2125)\n",
        "cubo %>%\n",
        "  sample_n(5, replace = TRUE)"
      ],
      "metadata": {
        "id": "eqLQNhb5QnTm"
      },
      "execution_count": null,
      "outputs": []
    },
    {
      "cell_type": "code",
      "source": [
        "# Exportamos a la carpeta con los cubos\n",
        " cubo%>%\n",
        "  rio::export(paste0(datos_cubos, 'Cubo_brechas_CNE.xlsx'), rowNames = FALSE)"
      ],
      "metadata": {
        "id": "U8TzZuAgVCvL"
      },
      "execution_count": null,
      "outputs": []
    },
    {
      "cell_type": "markdown",
      "source": [
        "## 🏁 Discusión\n",
        "1. ¿Qué campos tienen redundancias? (¿Cuál forma normal no se cumple?)\n",
        "3. ¿Cuál es el propósito de introducir esta redundancia?\n",
        "4. ¿Existe el riesgo que se produzan inconsistencias en los nombres de los centros o especialidades?\n",
        "1. ¿Qué cambios tendría que hacer a esta tabla si tuviera:\n",
        "  - Datos del 2021 al 2024?\n",
        "  - Datos de más establecimientos?"
      ],
      "metadata": {
        "id": "57-TXjbm7P5A"
      }
    }
  ]
}