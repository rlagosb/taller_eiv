{
  "nbformat": 4,
  "nbformat_minor": 0,
  "metadata": {
    "colab": {
      "provenance": [],
      "toc_visible": true,
      "include_colab_link": true
    },
    "kernelspec": {
      "name": "ir",
      "display_name": "R"
    },
    "language_info": {
      "name": "R"
    }
  },
  "cells": [
    {
      "cell_type": "markdown",
      "metadata": {
        "id": "view-in-github",
        "colab_type": "text"
      },
      "source": [
        "<a href=\"https://colab.research.google.com/github/rlagosb/taller_eiv/blob/main/3_Ejercicio_Cubo_multidimensional_(R).ipynb\" target=\"_parent\"><img src=\"https://colab.research.google.com/assets/colab-badge.svg\" alt=\"Open In Colab\"/></a>"
      ]
    },
    {
      "cell_type": "markdown",
      "source": [
        "# Ejercicio: creación de un cubo\n",
        "En este ejercicio vamos a armar una tabla de datos multidimensional para el análisis de las brechas de consultas de especialidad médica (CNE). Para ello haremos lo siguiente:\n",
        "\n",
        "1. Generar un modelo estrella con las métricas y dimensiones de análisis\n",
        "\n",
        "2. Generar tablas fact y dimensiones\n",
        "\n",
        "3. Exportar a excel"
      ],
      "metadata": {
        "id": "O35LLCKgccq-"
      }
    },
    {
      "cell_type": "markdown",
      "source": [
        " # Configurar área de trabajo"
      ],
      "metadata": {
        "id": "m1djU6wEMcAv"
      }
    },
    {
      "cell_type": "code",
      "execution_count": null,
      "metadata": {
        "id": "65ha1Po6cZm8",
        "colab": {
          "base_uri": "https://localhost:8080/"
        },
        "outputId": "0aaead21-e1d8-4930-8d6a-6ed40820b1ba"
      },
      "outputs": [
        {
          "output_type": "stream",
          "name": "stdout",
          "text": [
            "\f"
          ]
        },
        {
          "output_type": "stream",
          "name": "stderr",
          "text": [
            "Loading required package: dplyr\n",
            "\n",
            "\n",
            "Attaching package: ‘dplyr’\n",
            "\n",
            "\n",
            "The following objects are masked from ‘package:stats’:\n",
            "\n",
            "    filter, lag\n",
            "\n",
            "\n",
            "The following objects are masked from ‘package:base’:\n",
            "\n",
            "    intersect, setdiff, setequal, union\n",
            "\n",
            "\n",
            "Loading required package: rio\n",
            "\n",
            "Warning message in library(package, lib.loc = lib.loc, character.only = TRUE, logical.return = TRUE, :\n",
            "“there is no package called ‘rio’”\n",
            "Installing package into ‘/usr/local/lib/R/site-library’\n",
            "(as ‘lib’ is unspecified)\n",
            "\n",
            "also installing the dependencies ‘R.oo’, ‘R.methodsS3’, ‘writexl’, ‘R.utils’\n",
            "\n",
            "\n",
            "Loading required package: arrow\n",
            "\n",
            "Warning message in library(package, lib.loc = lib.loc, character.only = TRUE, logical.return = TRUE, :\n",
            "“there is no package called ‘arrow’”\n",
            "Installing package into ‘/usr/local/lib/R/site-library’\n",
            "(as ‘lib’ is unspecified)\n",
            "\n",
            "also installing the dependency ‘assertthat’\n",
            "\n",
            "\n",
            "Loading required package: nanoparquet\n",
            "\n",
            "Warning message in library(package, lib.loc = lib.loc, character.only = TRUE, logical.return = TRUE, :\n",
            "“there is no package called ‘nanoparquet’”\n",
            "Installing package into ‘/usr/local/lib/R/site-library’\n",
            "(as ‘lib’ is unspecified)\n",
            "\n"
          ]
        }
      ],
      "source": [
        "#borrar objetos previos\n",
        "rm(list=ls())\n",
        "#borrar figuras (si hay)\n",
        "while(!dev.cur())dev.off()\n",
        "cat(\"\\014\")\n",
        "\n",
        "# Para manipulación de bases de datos. Si no existe, la instalamos\n",
        "if(!require(dplyr)){install.packages(\"dplyr\")}\n",
        "# Para importar/exportar bases de datos. Si no existe, la instalamos\n",
        "if(!require(rio)){install.packages(\"rio\")}\n",
        "# Para exportar archivos en formato parquet\n",
        "if(!require(arrow)){install.packages(\"arrow\")}\n",
        "if(!require(nanoparquet)){install.packages(\"nanoparquet\")}\n",
        "\n",
        "# definir carpetas de trabajo\n",
        "datos_normalizados <- 'https://github.com/rlagosb/taller_eiv/raw/refs/heads/main/datos_normalizados/'\n",
        "datos_cubos <- './content/cubos/'\n",
        "\n",
        "if (!dir.exists(datos_cubos)){dir.create(datos_cubos, recursive = TRUE)}\n",
        "\n",
        "# cargar datos (concatenamos con paste0 la ubicación de github con el nombre de cada archivo *.parquet a trabajar)\n",
        "centros <- rio::import(paste0(datos_normalizados, \"Centros.parquet\"))\n",
        "especialidades <- rio::import(paste0(datos_normalizados, \"Especialidades.parquet\"))\n",
        "demanda <- rio::import(paste0(datos_normalizados, \"Demanda.parquet\"))\n",
        "produccion <- rio::import(paste0(datos_normalizados, \"Produccion.parquet\"))"
      ]
    },
    {
      "cell_type": "markdown",
      "source": [
        "# Crear tabla FACT\n",
        "Construiremos una tabla con los campos:\n",
        "\n",
        "- Centro_cod: código del centro de salud\n",
        "- Especialidad_cod: código de la especialidad médica (prestación)\n",
        "- Mes: mes del año 2021\n",
        "- CNE_solicitadas: solicitudes de interconsultas recibidas por establecimiento, especialidad y mes\n",
        "- CNE_producidas: consultas nuevas de especialidad producidas por establecimientos, especialidad y mes\n",
        "\n"
      ],
      "metadata": {
        "id": "li_nAEiDP8yn"
      }
    },
    {
      "cell_type": "code",
      "source": [
        "# Examinemos los campos que tienen las tablas de demanda y producción\n",
        "# Con el cruce de estas tablas podemos obtener las métricas fundamentales para el análisis\n",
        "#Tres primeros valores de la base demanda\n",
        "demanda %>% head(3)\n",
        "\n",
        "cat(\"\\n\\n\") #saltos de línea\n",
        "\n",
        "#Tres primeros valores de la base producción\n",
        "produccion %>% head(3)"
      ],
      "metadata": {
        "colab": {
          "base_uri": "https://localhost:8080/",
          "height": 402
        },
        "id": "PicCHR0eR0yX",
        "outputId": "e0813ce9-b533-40f0-b619-073d11473376"
      },
      "execution_count": null,
      "outputs": [
        {
          "output_type": "display_data",
          "data": {
            "text/html": [
              "<table class=\"dataframe\">\n",
              "<caption>A data.frame: 3 × 6</caption>\n",
              "<thead>\n",
              "\t<tr><th></th><th scope=col>Especialidad</th><th scope=col>Centro_destino</th><th scope=col>Año</th><th scope=col>Mes</th><th scope=col>Interconsultas</th><th scope=col>__index_level_0__</th></tr>\n",
              "\t<tr><th></th><th scope=col>&lt;chr&gt;</th><th scope=col>&lt;dbl&gt;</th><th scope=col>&lt;int&gt;</th><th scope=col>&lt;int&gt;</th><th scope=col>&lt;dbl&gt;</th><th scope=col>&lt;dbl&gt;</th></tr>\n",
              "</thead>\n",
              "<tbody>\n",
              "\t<tr><th scope=row>1</th><td>07-053</td><td>114101</td><td>2021</td><td>1</td><td>822</td><td>0</td></tr>\n",
              "\t<tr><th scope=row>2</th><td>07-053</td><td>114101</td><td>2021</td><td>3</td><td>748</td><td>1</td></tr>\n",
              "\t<tr><th scope=row>3</th><td>07-044</td><td>114101</td><td>2021</td><td>1</td><td>673</td><td>2</td></tr>\n",
              "</tbody>\n",
              "</table>\n"
            ],
            "text/markdown": "\nA data.frame: 3 × 6\n\n| <!--/--> | Especialidad &lt;chr&gt; | Centro_destino &lt;dbl&gt; | Año &lt;int&gt; | Mes &lt;int&gt; | Interconsultas &lt;dbl&gt; | __index_level_0__ &lt;dbl&gt; |\n|---|---|---|---|---|---|---|\n| 1 | 07-053 | 114101 | 2021 | 1 | 822 | 0 |\n| 2 | 07-053 | 114101 | 2021 | 3 | 748 | 1 |\n| 3 | 07-044 | 114101 | 2021 | 1 | 673 | 2 |\n\n",
            "text/latex": "A data.frame: 3 × 6\n\\begin{tabular}{r|llllll}\n  & Especialidad & Centro\\_destino & Año & Mes & Interconsultas & \\_\\_index\\_level\\_0\\_\\_\\\\\n  & <chr> & <dbl> & <int> & <int> & <dbl> & <dbl>\\\\\n\\hline\n\t1 & 07-053 & 114101 & 2021 & 1 & 822 & 0\\\\\n\t2 & 07-053 & 114101 & 2021 & 3 & 748 & 1\\\\\n\t3 & 07-044 & 114101 & 2021 & 1 & 673 & 2\\\\\n\\end{tabular}\n",
            "text/plain": [
              "  Especialidad Centro_destino Año  Mes Interconsultas __index_level_0__\n",
              "1 07-053       114101         2021 1   822            0                \n",
              "2 07-053       114101         2021 3   748            1                \n",
              "3 07-044       114101         2021 1   673            2                "
            ]
          },
          "metadata": {}
        },
        {
          "output_type": "stream",
          "name": "stdout",
          "text": [
            "\n",
            "\n"
          ]
        },
        {
          "output_type": "display_data",
          "data": {
            "text/html": [
              "<table class=\"dataframe\">\n",
              "<caption>A data.frame: 3 × 6</caption>\n",
              "<thead>\n",
              "\t<tr><th></th><th scope=col>Año</th><th scope=col>Mes</th><th scope=col>Centro</th><th scope=col>Nuevas</th><th scope=col>Controles</th><th scope=col>Codigo</th></tr>\n",
              "\t<tr><th></th><th scope=col>&lt;dbl&gt;</th><th scope=col>&lt;dbl&gt;</th><th scope=col>&lt;dbl&gt;</th><th scope=col>&lt;dbl&gt;</th><th scope=col>&lt;dbl&gt;</th><th scope=col>&lt;chr&gt;</th></tr>\n",
              "</thead>\n",
              "<tbody>\n",
              "\t<tr><th scope=row>1</th><td>2021</td><td>1</td><td>114101</td><td> 33</td><td>192</td><td>07-047</td></tr>\n",
              "\t<tr><th scope=row>2</th><td>2021</td><td>1</td><td>114101</td><td>239</td><td>325</td><td>07-030</td></tr>\n",
              "\t<tr><th scope=row>3</th><td>2021</td><td>1</td><td>114101</td><td>  8</td><td> 82</td><td>07-039</td></tr>\n",
              "</tbody>\n",
              "</table>\n"
            ],
            "text/markdown": "\nA data.frame: 3 × 6\n\n| <!--/--> | Año &lt;dbl&gt; | Mes &lt;dbl&gt; | Centro &lt;dbl&gt; | Nuevas &lt;dbl&gt; | Controles &lt;dbl&gt; | Codigo &lt;chr&gt; |\n|---|---|---|---|---|---|---|\n| 1 | 2021 | 1 | 114101 |  33 | 192 | 07-047 |\n| 2 | 2021 | 1 | 114101 | 239 | 325 | 07-030 |\n| 3 | 2021 | 1 | 114101 |   8 |  82 | 07-039 |\n\n",
            "text/latex": "A data.frame: 3 × 6\n\\begin{tabular}{r|llllll}\n  & Año & Mes & Centro & Nuevas & Controles & Codigo\\\\\n  & <dbl> & <dbl> & <dbl> & <dbl> & <dbl> & <chr>\\\\\n\\hline\n\t1 & 2021 & 1 & 114101 &  33 & 192 & 07-047\\\\\n\t2 & 2021 & 1 & 114101 & 239 & 325 & 07-030\\\\\n\t3 & 2021 & 1 & 114101 &   8 &  82 & 07-039\\\\\n\\end{tabular}\n",
            "text/plain": [
              "  Año  Mes Centro Nuevas Controles Codigo\n",
              "1 2021 1   114101  33    192       07-047\n",
              "2 2021 1   114101 239    325       07-030\n",
              "3 2021 1   114101   8     82       07-039"
            ]
          },
          "metadata": {}
        }
      ]
    },
    {
      "cell_type": "code",
      "source": [
        "# 1. Seleccionar y renombrar columnas de la tabla demanda\n",
        "dda <- demanda %>%\n",
        "  dplyr::select(Centro_destino, Especialidad, Mes, Interconsultas) %>%  # Seleccionar columnas relevantes\n",
        "  dplyr::rename(\n",
        "    Centro_cod = Centro_destino,       # Renombrar 'Centro_destino' a 'Centro_cod'\n",
        "    Especialidad_cod = Especialidad,   # Renombrar 'Especialidad' a 'Especialidad_cod'\n",
        "    CNE_solicitadas = Interconsultas    # Renombrar 'Interconsultas' a 'CNE_solicitadas'\n",
        "  )\n",
        "\n",
        "# 2. Seleccionar y renombrar columnas de la tabla produccion\n",
        "prod <- produccion %>%\n",
        "  dplyr::select(Centro, Codigo, Mes, Nuevas) %>%  # Seleccionar columnas relevantes\n",
        "  dplyr::rename(\n",
        "    Centro_cod = Centro,              # Renombrar 'Centro' a 'Centro_cod'\n",
        "    Especialidad_cod = Codigo,        # Renombrar 'Codigo' a 'Especialidad_cod'\n",
        "    CNE_producidas = Nuevas            # Renombrar 'Nuevas' a 'CNE_producidas'\n",
        "  )\n",
        "\n",
        "# 3. Realizar una unión completa (outer join) entre demanda y produccion\n",
        "fact <- dda %>%\n",
        "  dplyr::full_join(prod, by = c(\"Centro_cod\", \"Especialidad_cod\", \"Mes\"))  # Unir por las columnas especificadas\n",
        "\n",
        "# 4. Reemplazar valores NA por 0 en las columnas 'CNE_solicitadas' y 'CNE_producidas'\n",
        "# Utilizamos la función 'coalesce' para reemplazar NAs con 0\n",
        "fact <- fact %>%\n",
        "  dplyr::mutate(\n",
        "    CNE_solicitadas = coalesce(CNE_solicitadas, 0),   # Reemplazar NA en 'CNE_solicitadas' por 0\n",
        "    CNE_producidas = coalesce(CNE_producidas, 0)    # Reemplazar NA en 'CNE_producidas' por 0\n",
        "  )\n",
        "\n",
        "# 5. Convertir las columnas 'CNE_solicitadas' y 'CNE_producidas' a enteros\n",
        "fact <- fact %>%\n",
        "  dplyr::mutate(\n",
        "    CNE_solicitadas = as.integer(CNE_solicitadas),   # Convertir a entero\n",
        "    CNE_producidas = as.integer(CNE_producidas)      # Convertir a entero\n",
        "  )\n",
        "\n",
        "# Mostrar la estructura de la tabla resultante\n",
        "str(fact)"
      ],
      "metadata": {
        "colab": {
          "base_uri": "https://localhost:8080/"
        },
        "id": "hbelFXlzWwaw",
        "outputId": "d5df9719-6650-459b-b842-338a4014667d"
      },
      "execution_count": null,
      "outputs": [
        {
          "output_type": "stream",
          "name": "stdout",
          "text": [
            "'data.frame':\t2080 obs. of  5 variables:\n",
            " $ Centro_cod      : num  114101 114101 114101 114101 114101 ...\n",
            " $ Especialidad_cod: chr  \"07-053\" \"07-053\" \"07-044\" \"07-053\" ...\n",
            " $ Mes             : num  1 3 1 2 9 5 2 3 8 6 ...\n",
            " $ CNE_solicitadas : int  822 748 673 655 654 631 629 625 623 600 ...\n",
            " $ CNE_producidas  : int  640 668 578 542 615 898 601 768 681 595 ...\n"
          ]
        }
      ]
    },
    {
      "cell_type": "markdown",
      "source": [
        "## 🏁 Discusión\n",
        "1. ¿Cuáles son las métricas que registra esta tabla?\n",
        "1. ¿Cuáles son los hechos que registra esta tabla? ¿Cuántos exiten?\n",
        "2. ¿Cuál es el nivel de detalle con que se describen los hechos (granularidad)?\n",
        "1. ¿A partir de esta tabla es posible consultar los hechos a nivel diario? ¿Trimestral? ¿Anual?"
      ],
      "metadata": {
        "id": "lwAqspCcsMX9"
      }
    },
    {
      "cell_type": "markdown",
      "source": [
        "# Dimensión Periodo\n",
        "Aunque nuestro análisis sólo considera un año, podríamos querer analizar los datos a nivel trimestral o anual. Construiremos una tabla con los campos\n",
        "\n",
        "- Mes: llave primaria\n",
        "- Trimestre\n",
        "- Año\n",
        "\n",
        "**⚠** Si trabajáramos con múltiples años necesitaríamos definir otra llave primaria para esta dimensión"
      ],
      "metadata": {
        "id": "-dhGGUpO75-P"
      }
    },
    {
      "cell_type": "code",
      "source": [
        "# Creamos un dataframe vacío para agregar los campos\n",
        "dim_periodo <- cbind.data.frame(\n",
        "  Mes =         1:12,               # Números del 1 al 12 para los meses\n",
        "  Año =         2021,               # Año constante 2021\n",
        "  Trimestre =   rep(1:4, each = 3)  # Asignar trimestre\n",
        ") %>%\n",
        "  dplyr::arrange(Mes)  # Ordenar por Mes para mantener el orden cronológico\n",
        "\n",
        "dim_periodo"
      ],
      "metadata": {
        "colab": {
          "base_uri": "https://localhost:8080/",
          "height": 474
        },
        "id": "_ELjsevv8ciQ",
        "outputId": "ef6590f7-63c5-43a4-e5fe-27a9151c4ff3"
      },
      "execution_count": null,
      "outputs": [
        {
          "output_type": "display_data",
          "data": {
            "text/html": [
              "<table class=\"dataframe\">\n",
              "<caption>A data.frame: 12 × 3</caption>\n",
              "<thead>\n",
              "\t<tr><th scope=col>Mes</th><th scope=col>Año</th><th scope=col>Trimestre</th></tr>\n",
              "\t<tr><th scope=col>&lt;int&gt;</th><th scope=col>&lt;dbl&gt;</th><th scope=col>&lt;int&gt;</th></tr>\n",
              "</thead>\n",
              "<tbody>\n",
              "\t<tr><td> 1</td><td>2021</td><td>1</td></tr>\n",
              "\t<tr><td> 2</td><td>2021</td><td>1</td></tr>\n",
              "\t<tr><td> 3</td><td>2021</td><td>1</td></tr>\n",
              "\t<tr><td> 4</td><td>2021</td><td>2</td></tr>\n",
              "\t<tr><td> 5</td><td>2021</td><td>2</td></tr>\n",
              "\t<tr><td> 6</td><td>2021</td><td>2</td></tr>\n",
              "\t<tr><td> 7</td><td>2021</td><td>3</td></tr>\n",
              "\t<tr><td> 8</td><td>2021</td><td>3</td></tr>\n",
              "\t<tr><td> 9</td><td>2021</td><td>3</td></tr>\n",
              "\t<tr><td>10</td><td>2021</td><td>4</td></tr>\n",
              "\t<tr><td>11</td><td>2021</td><td>4</td></tr>\n",
              "\t<tr><td>12</td><td>2021</td><td>4</td></tr>\n",
              "</tbody>\n",
              "</table>\n"
            ],
            "text/markdown": "\nA data.frame: 12 × 3\n\n| Mes &lt;int&gt; | Año &lt;dbl&gt; | Trimestre &lt;int&gt; |\n|---|---|---|\n|  1 | 2021 | 1 |\n|  2 | 2021 | 1 |\n|  3 | 2021 | 1 |\n|  4 | 2021 | 2 |\n|  5 | 2021 | 2 |\n|  6 | 2021 | 2 |\n|  7 | 2021 | 3 |\n|  8 | 2021 | 3 |\n|  9 | 2021 | 3 |\n| 10 | 2021 | 4 |\n| 11 | 2021 | 4 |\n| 12 | 2021 | 4 |\n\n",
            "text/latex": "A data.frame: 12 × 3\n\\begin{tabular}{lll}\n Mes & Año & Trimestre\\\\\n <int> & <dbl> & <int>\\\\\n\\hline\n\t  1 & 2021 & 1\\\\\n\t  2 & 2021 & 1\\\\\n\t  3 & 2021 & 1\\\\\n\t  4 & 2021 & 2\\\\\n\t  5 & 2021 & 2\\\\\n\t  6 & 2021 & 2\\\\\n\t  7 & 2021 & 3\\\\\n\t  8 & 2021 & 3\\\\\n\t  9 & 2021 & 3\\\\\n\t 10 & 2021 & 4\\\\\n\t 11 & 2021 & 4\\\\\n\t 12 & 2021 & 4\\\\\n\\end{tabular}\n",
            "text/plain": [
              "   Mes Año  Trimestre\n",
              "1   1  2021 1        \n",
              "2   2  2021 1        \n",
              "3   3  2021 1        \n",
              "4   4  2021 2        \n",
              "5   5  2021 2        \n",
              "6   6  2021 2        \n",
              "7   7  2021 3        \n",
              "8   8  2021 3        \n",
              "9   9  2021 3        \n",
              "10 10  2021 4        \n",
              "11 11  2021 4        \n",
              "12 12  2021 4        "
            ]
          },
          "metadata": {}
        }
      ]
    },
    {
      "cell_type": "markdown",
      "source": [
        "# Dimensión Especialidad\n",
        "Crearemos una tabla con los siguientes campos:\n",
        "\n",
        "- Especialidad_cod: código de la especialidad (llave primaria)\n",
        "- Especialidad: nombre de la especialidad\n",
        "- Alto_riesgo: especialidad con mayor mortalidad para tiempos de espera extensos según Martínez et al ([2019](https://doi.org/10.1186/s12889-019-6526-6))\n",
        "- REM: si se incluye en reportes estadísticos mensuales\n"
      ],
      "metadata": {
        "id": "AEbpZGMyteOF"
      }
    },
    {
      "cell_type": "code",
      "source": [
        "# Examinemos la tabla especialidades para identificar los campos existentes y los que faltan\n",
        "set.seed(123)#para reproducibilidad\n",
        "especialidades[sample(nrow(especialidades),5),] #tomamos 5 observaciones al azar"
      ],
      "metadata": {
        "colab": {
          "base_uri": "https://localhost:8080/",
          "height": 255
        },
        "id": "ShKL6g3DuQvF",
        "outputId": "85e5e7f1-781c-4ec0-d17d-d8ac49e55978"
      },
      "execution_count": null,
      "outputs": [
        {
          "output_type": "display_data",
          "data": {
            "text/html": [
              "<table class=\"dataframe\">\n",
              "<caption>A data.frame: 5 × 5</caption>\n",
              "<thead>\n",
              "\t<tr><th></th><th scope=col>Codigo</th><th scope=col>Nombre</th><th scope=col>Nombre_prog</th><th scope=col>Codigo_prog</th><th scope=col>Codigo_rem</th></tr>\n",
              "\t<tr><th></th><th scope=col>&lt;chr&gt;</th><th scope=col>&lt;chr&gt;</th><th scope=col>&lt;chr&gt;</th><th scope=col>&lt;dbl&gt;</th><th scope=col>&lt;dbl&gt;</th></tr>\n",
              "</thead>\n",
              "<tbody>\n",
              "\t<tr><th scope=row>31</th><td>07-031</td><td>MEDICINA INTENSIVA ADULTO</td><td>MEDICINA INTENSIVA ADULTO</td><td>7030999</td><td>     NA</td></tr>\n",
              "\t<tr><th scope=row>51</th><td>07-051</td><td>REUMATOLOGÍA             </td><td>REUMATOLOGÍA             </td><td>7021230</td><td>7021230</td></tr>\n",
              "\t<tr><th scope=row>14</th><td>07-014</td><td>ENDOCRINOLOGÍA ADULTO    </td><td>ENDOCRINOLOGÍA ADULTO    </td><td>7020600</td><td>7020600</td></tr>\n",
              "\t<tr><th scope=row>42</th><td>07-042</td><td>NEUROLOGÍA PEDIÁTRICA    </td><td>NEUROLOGÍA PEDIÁTRICA    </td><td>7022134</td><td>7022134</td></tr>\n",
              "\t<tr><th scope=row>50</th><td>07-050</td><td>RADIOTERAPIA ONCOLÓGICA  </td><td>RADIOTERAPIA ONCOLÓGICA  </td><td>7030502</td><td>7030500</td></tr>\n",
              "</tbody>\n",
              "</table>\n"
            ],
            "text/markdown": "\nA data.frame: 5 × 5\n\n| <!--/--> | Codigo &lt;chr&gt; | Nombre &lt;chr&gt; | Nombre_prog &lt;chr&gt; | Codigo_prog &lt;dbl&gt; | Codigo_rem &lt;dbl&gt; |\n|---|---|---|---|---|---|\n| 31 | 07-031 | MEDICINA INTENSIVA ADULTO | MEDICINA INTENSIVA ADULTO | 7030999 |      NA |\n| 51 | 07-051 | REUMATOLOGÍA              | REUMATOLOGÍA              | 7021230 | 7021230 |\n| 14 | 07-014 | ENDOCRINOLOGÍA ADULTO     | ENDOCRINOLOGÍA ADULTO     | 7020600 | 7020600 |\n| 42 | 07-042 | NEUROLOGÍA PEDIÁTRICA     | NEUROLOGÍA PEDIÁTRICA     | 7022134 | 7022134 |\n| 50 | 07-050 | RADIOTERAPIA ONCOLÓGICA   | RADIOTERAPIA ONCOLÓGICA   | 7030502 | 7030500 |\n\n",
            "text/latex": "A data.frame: 5 × 5\n\\begin{tabular}{r|lllll}\n  & Codigo & Nombre & Nombre\\_prog & Codigo\\_prog & Codigo\\_rem\\\\\n  & <chr> & <chr> & <chr> & <dbl> & <dbl>\\\\\n\\hline\n\t31 & 07-031 & MEDICINA INTENSIVA ADULTO & MEDICINA INTENSIVA ADULTO & 7030999 &      NA\\\\\n\t51 & 07-051 & REUMATOLOGÍA              & REUMATOLOGÍA              & 7021230 & 7021230\\\\\n\t14 & 07-014 & ENDOCRINOLOGÍA ADULTO     & ENDOCRINOLOGÍA ADULTO     & 7020600 & 7020600\\\\\n\t42 & 07-042 & NEUROLOGÍA PEDIÁTRICA     & NEUROLOGÍA PEDIÁTRICA     & 7022134 & 7022134\\\\\n\t50 & 07-050 & RADIOTERAPIA ONCOLÓGICA   & RADIOTERAPIA ONCOLÓGICA   & 7030502 & 7030500\\\\\n\\end{tabular}\n",
            "text/plain": [
              "   Codigo Nombre                    Nombre_prog               Codigo_prog\n",
              "31 07-031 MEDICINA INTENSIVA ADULTO MEDICINA INTENSIVA ADULTO 7030999    \n",
              "51 07-051 REUMATOLOGÍA              REUMATOLOGÍA              7021230    \n",
              "14 07-014 ENDOCRINOLOGÍA ADULTO     ENDOCRINOLOGÍA ADULTO     7020600    \n",
              "42 07-042 NEUROLOGÍA PEDIÁTRICA     NEUROLOGÍA PEDIÁTRICA     7022134    \n",
              "50 07-050 RADIOTERAPIA ONCOLÓGICA   RADIOTERAPIA ONCOLÓGICA   7030502    \n",
              "   Codigo_rem\n",
              "31      NA   \n",
              "51 7021230   \n",
              "14 7020600   \n",
              "42 7022134   \n",
              "50 7030500   "
            ]
          },
          "metadata": {}
        }
      ]
    },
    {
      "cell_type": "code",
      "source": [
        "# Generemos la dimensión especialidad con una función especial\n",
        "\n",
        "# 1. Seleccionar y renombrar columnas de la tabla especialidades\n",
        "esp <- especialidades %>%\n",
        "  dplyr::select(Codigo, Nombre, Codigo_rem) %>%  # Seleccionar columnas relevantes\n",
        "  dplyr::rename(\n",
        "    Especialidad_cod = Codigo,        # Renombrar 'Codigo' a 'Especialidad_cod'\n",
        "    Especialidad = Nombre             # Renombrar 'Nombre' a 'Especialidad'\n",
        "  )\n",
        "\n",
        "# 2. Generar el campo Especialidad_REM\n",
        "esp <- esp %>%\n",
        "  dplyr::mutate(\n",
        "    Especialidad_REM = ifelse(!is.na(Codigo_rem), \"Si\", \"No\")  # Asignar 'Si' si Codigo_rem no es NA, de lo contrario 'No'\n",
        "  ) %>%\n",
        "  dplyr::select(-Codigo_rem)  # Eliminar la columna 'Codigo_rem'\n",
        "\n",
        " # Identificamos las especialidades de alto riesgo: CARDIOLOGIA, CIRUGIA CARDIOVASCULAR, GASTROENTEROLOGIA ADULTO, NEFROLOGIA ADULTO, NEUROLOGIA ADULTO, UROLOGIA\n",
        "  alto_riesgo <- c('07-003', '07-006', '07-018', '07-037', '07-041', '07-054')  # Lista de códigos de alto riesgo\n",
        "\n",
        "  dim_especialidad <- esp %>%\n",
        "    dplyr::mutate(\n",
        "      Riesgo_mortalidad = ifelse(Especialidad_cod %in% alto_riesgo, \"Si\", \"No\")  # Asignar 'Si' si el código está en alto_riesgo, de lo contrario 'No'\n",
        "    )\n",
        "\n",
        "# Veamos el resultado\n",
        "dplyr::glimpse(dim_especialidad)\n",
        "set.seed(123)#para reproducibilidad\n",
        "especialidades[sample(nrow(especialidades),5),] #tomamos 5 observaciones al azar"
      ],
      "metadata": {
        "id": "jiVT5whQu7JO",
        "colab": {
          "base_uri": "https://localhost:8080/",
          "height": 359
        },
        "outputId": "5de3ea71-cc8f-4143-ef91-da2a939f04fa"
      },
      "execution_count": null,
      "outputs": [
        {
          "output_type": "stream",
          "name": "stdout",
          "text": [
            "Rows: 68\n",
            "Columns: 4\n",
            "$ Especialidad_cod  \u001b[3m\u001b[90m<chr>\u001b[39m\u001b[23m \"07-001\", \"07-002\", \"07-003\", \"07-004\", \"07-005\", \"0…\n",
            "$ Especialidad      \u001b[3m\u001b[90m<chr>\u001b[39m\u001b[23m \"ANATOMÍA PATOLÓGICA\", \"ANESTESIOLOGÍA\", \"CARDIOLOGÍ…\n",
            "$ Especialidad_REM  \u001b[3m\u001b[90m<chr>\u001b[39m\u001b[23m \"No\", \"Si\", \"Si\", \"Si\", \"Si\", \"Si\", \"Si\", \"Si\", \"Si\"…\n",
            "$ Riesgo_mortalidad \u001b[3m\u001b[90m<chr>\u001b[39m\u001b[23m \"No\", \"No\", \"Si\", \"No\", \"No\", \"Si\", \"No\", \"No\", \"No\"…\n"
          ]
        },
        {
          "output_type": "display_data",
          "data": {
            "text/html": [
              "<table class=\"dataframe\">\n",
              "<caption>A data.frame: 5 × 5</caption>\n",
              "<thead>\n",
              "\t<tr><th></th><th scope=col>Codigo</th><th scope=col>Nombre</th><th scope=col>Nombre_prog</th><th scope=col>Codigo_prog</th><th scope=col>Codigo_rem</th></tr>\n",
              "\t<tr><th></th><th scope=col>&lt;chr&gt;</th><th scope=col>&lt;chr&gt;</th><th scope=col>&lt;chr&gt;</th><th scope=col>&lt;dbl&gt;</th><th scope=col>&lt;dbl&gt;</th></tr>\n",
              "</thead>\n",
              "<tbody>\n",
              "\t<tr><th scope=row>31</th><td>07-031</td><td>MEDICINA INTENSIVA ADULTO</td><td>MEDICINA INTENSIVA ADULTO</td><td>7030999</td><td>     NA</td></tr>\n",
              "\t<tr><th scope=row>51</th><td>07-051</td><td>REUMATOLOGÍA             </td><td>REUMATOLOGÍA             </td><td>7021230</td><td>7021230</td></tr>\n",
              "\t<tr><th scope=row>14</th><td>07-014</td><td>ENDOCRINOLOGÍA ADULTO    </td><td>ENDOCRINOLOGÍA ADULTO    </td><td>7020600</td><td>7020600</td></tr>\n",
              "\t<tr><th scope=row>42</th><td>07-042</td><td>NEUROLOGÍA PEDIÁTRICA    </td><td>NEUROLOGÍA PEDIÁTRICA    </td><td>7022134</td><td>7022134</td></tr>\n",
              "\t<tr><th scope=row>50</th><td>07-050</td><td>RADIOTERAPIA ONCOLÓGICA  </td><td>RADIOTERAPIA ONCOLÓGICA  </td><td>7030502</td><td>7030500</td></tr>\n",
              "</tbody>\n",
              "</table>\n"
            ],
            "text/markdown": "\nA data.frame: 5 × 5\n\n| <!--/--> | Codigo &lt;chr&gt; | Nombre &lt;chr&gt; | Nombre_prog &lt;chr&gt; | Codigo_prog &lt;dbl&gt; | Codigo_rem &lt;dbl&gt; |\n|---|---|---|---|---|---|\n| 31 | 07-031 | MEDICINA INTENSIVA ADULTO | MEDICINA INTENSIVA ADULTO | 7030999 |      NA |\n| 51 | 07-051 | REUMATOLOGÍA              | REUMATOLOGÍA              | 7021230 | 7021230 |\n| 14 | 07-014 | ENDOCRINOLOGÍA ADULTO     | ENDOCRINOLOGÍA ADULTO     | 7020600 | 7020600 |\n| 42 | 07-042 | NEUROLOGÍA PEDIÁTRICA     | NEUROLOGÍA PEDIÁTRICA     | 7022134 | 7022134 |\n| 50 | 07-050 | RADIOTERAPIA ONCOLÓGICA   | RADIOTERAPIA ONCOLÓGICA   | 7030502 | 7030500 |\n\n",
            "text/latex": "A data.frame: 5 × 5\n\\begin{tabular}{r|lllll}\n  & Codigo & Nombre & Nombre\\_prog & Codigo\\_prog & Codigo\\_rem\\\\\n  & <chr> & <chr> & <chr> & <dbl> & <dbl>\\\\\n\\hline\n\t31 & 07-031 & MEDICINA INTENSIVA ADULTO & MEDICINA INTENSIVA ADULTO & 7030999 &      NA\\\\\n\t51 & 07-051 & REUMATOLOGÍA              & REUMATOLOGÍA              & 7021230 & 7021230\\\\\n\t14 & 07-014 & ENDOCRINOLOGÍA ADULTO     & ENDOCRINOLOGÍA ADULTO     & 7020600 & 7020600\\\\\n\t42 & 07-042 & NEUROLOGÍA PEDIÁTRICA     & NEUROLOGÍA PEDIÁTRICA     & 7022134 & 7022134\\\\\n\t50 & 07-050 & RADIOTERAPIA ONCOLÓGICA   & RADIOTERAPIA ONCOLÓGICA   & 7030502 & 7030500\\\\\n\\end{tabular}\n",
            "text/plain": [
              "   Codigo Nombre                    Nombre_prog               Codigo_prog\n",
              "31 07-031 MEDICINA INTENSIVA ADULTO MEDICINA INTENSIVA ADULTO 7030999    \n",
              "51 07-051 REUMATOLOGÍA              REUMATOLOGÍA              7021230    \n",
              "14 07-014 ENDOCRINOLOGÍA ADULTO     ENDOCRINOLOGÍA ADULTO     7020600    \n",
              "42 07-042 NEUROLOGÍA PEDIÁTRICA     NEUROLOGÍA PEDIÁTRICA     7022134    \n",
              "50 07-050 RADIOTERAPIA ONCOLÓGICA   RADIOTERAPIA ONCOLÓGICA   7030502    \n",
              "   Codigo_rem\n",
              "31      NA   \n",
              "51 7021230   \n",
              "14 7020600   \n",
              "42 7022134   \n",
              "50 7030500   "
            ]
          },
          "metadata": {}
        }
      ]
    },
    {
      "cell_type": "markdown",
      "source": [
        "## 🏁 Discusión\n",
        "1. ¿Qué diferencia a esta tabla de la tabla normalizada *Especialidades*?\n",
        "2. ¿Cuál es el propósito de cada una?"
      ],
      "metadata": {
        "id": "EOSqsY2r7u8Y"
      }
    },
    {
      "cell_type": "markdown",
      "source": [
        "# 🍎 Desafío: Crear Dimensión Establecimiento\n",
        "Cree un dataframe `dim_centro` con los siguientes campos:\n",
        "\n",
        "- Centro_cod: código DEIS del centro (llave primaria)\n",
        "- Centro: nombre del centro de salud\n",
        "- Complejidad: nivel de complejidad del centro\n",
        "- Servicio: Servicio de Salud del cual depende"
      ],
      "metadata": {
        "id": "OEj82d9jJaC1"
      }
    },
    {
      "cell_type": "code",
      "source": [
        "dim_centro <- centros %>%\n",
        "  dplyr::select(Codigo, Nombre, Dependencia, `Nivel de Complejidad`) %>%  # Seleccionar columnas relevantes. Ojo que para columnas que contienen espacios o parten con caracteres especiales, dplyr requirere el tilde inverso para llamarlos y manipularlos\n",
        "  dplyr::rename(\n",
        "    Centro_cod    = Codigo,\n",
        "    Centro        = Nombre,\n",
        "    Complejidad   = \"Nivel de Complejidad\",\n",
        "    Servicio      = Dependencia\n",
        "  )\n",
        "#Miramos el resultado\n",
        "dim_centro"
      ],
      "metadata": {
        "colab": {
          "base_uri": "https://localhost:8080/",
          "height": 1000
        },
        "id": "DVNErWPdAA6Y",
        "outputId": "542a057c-8f6a-4fdd-a2bb-4b547c0882ed"
      },
      "execution_count": null,
      "outputs": [
        {
          "output_type": "display_data",
          "data": {
            "text/html": [
              "<table class=\"dataframe\">\n",
              "<caption>A data.frame: 4749 × 4</caption>\n",
              "<thead>\n",
              "\t<tr><th></th><th scope=col>Centro_cod</th><th scope=col>Centro</th><th scope=col>Servicio</th><th scope=col>Complejidad</th></tr>\n",
              "\t<tr><th></th><th scope=col>&lt;dbl&gt;</th><th scope=col>&lt;chr&gt;</th><th scope=col>&lt;chr&gt;</th><th scope=col>&lt;chr&gt;</th></tr>\n",
              "</thead>\n",
              "<tbody>\n",
              "\t<tr><th scope=row>1</th><td>126704</td><td>Hospital Comunitario Cristina Calderón de Puerto Williams                                     </td><td>Servicio de Salud Magallanes               </td><td>Baja Complejidad   </td></tr>\n",
              "\t<tr><th scope=row>2</th><td>126204</td><td>Hospital Naval (Puerto Williams)                                                              </td><td>SEREMI De Magallanes y la Antártica Chilena</td><td>Mediana Complejidad</td></tr>\n",
              "\t<tr><th scope=row>3</th><td>126412</td><td>Posta de Salud Rural Cameron                                                                  </td><td>Servicio de Salud Magallanes               </td><td>Baja Complejidad   </td></tr>\n",
              "\t<tr><th scope=row>4</th><td>126414</td><td>Posta de Salud Rural Agua Fresca                                                              </td><td>Servicio de Salud Magallanes               </td><td>Baja Complejidad   </td></tr>\n",
              "\t<tr><th scope=row>5</th><td>126102</td><td>Hospital Dr. Marco Antonio Chamorro ( Porvenir)                                               </td><td>Servicio de Salud Magallanes               </td><td>Baja Complejidad   </td></tr>\n",
              "\t<tr><th scope=row>6</th><td>201364</td><td> UNO SALUD DENTAL LOS ÁNGELES 2                                                               </td><td>SEREMI Del Biobío                          </td><td>Mediana Complejidad</td></tr>\n",
              "\t<tr><th scope=row>7</th><td>200311</td><td>Centro Comunitario de Salud Familiar Dr. Juan Damianovic                                      </td><td>Servicio de Salud Magallanes               </td><td>Baja Complejidad   </td></tr>\n",
              "\t<tr><th scope=row>8</th><td>200710</td><td>Complejo Miraflores (Salud Mental)                                                            </td><td>Servicio de Salud Magallanes               </td><td>Mediana Complejidad</td></tr>\n",
              "\t<tr><th scope=row>9</th><td>126606</td><td>COSAM Punta Arenas                                                                            </td><td>Servicio de Salud Magallanes               </td><td>Mediana Complejidad</td></tr>\n",
              "\t<tr><th scope=row>10</th><td>126801</td><td>SAR Dr. Juan Damianovic                                                                       </td><td>Servicio de Salud Magallanes               </td><td>Mediana Complejidad</td></tr>\n",
              "\t<tr><th scope=row>11</th><td>126301</td><td>Centro de Salud Familiar Dr. Juan Damianovic                                                  </td><td>Servicio de Salud Magallanes               </td><td>Baja Complejidad   </td></tr>\n",
              "\t<tr><th scope=row>12</th><td>126203</td><td>Centro de Salud Mutual CChC Punta Arenas                                                      </td><td>SEREMI De Magallanes y la Antártica Chilena</td><td>Baja Complejidad   </td></tr>\n",
              "\t<tr><th scope=row>13</th><td>200473</td><td>Laboratorio Clínico de Agostini y Cia. Ltda.                                                  </td><td>SEREMI De Magallanes y la Antártica Chilena</td><td>No Aplica          </td></tr>\n",
              "\t<tr><th scope=row>14</th><td>126228</td><td>Laboratorio Clínico Corporación Municipal Punta Arenas                                        </td><td>Servicio de Salud Magallanes               </td><td>No Aplica          </td></tr>\n",
              "\t<tr><th scope=row>15</th><td>126030</td><td>Unidad de Salud Funcionario  S.S Magallanes                                                   </td><td>Servicio de Salud Magallanes               </td><td>Baja Complejidad   </td></tr>\n",
              "\t<tr><th scope=row>16</th><td>126010</td><td>Actividades gestionadas por la Dirección del Servicio para apoyo de la Red (S.S de Magallanes)</td><td>Servicio de Salud Magallanes               </td><td>Baja Complejidad   </td></tr>\n",
              "\t<tr><th scope=row>17</th><td>126011</td><td>PRAIS (S.S Magallanes)                                                                        </td><td>Servicio de Salud Magallanes               </td><td>Baja Complejidad   </td></tr>\n",
              "\t<tr><th scope=row>18</th><td>200171</td><td>SAPU 18 de Septiembre                                                                         </td><td>Servicio de Salud Magallanes               </td><td>Baja Complejidad   </td></tr>\n",
              "\t<tr><th scope=row>19</th><td>126302</td><td>Centro de Salud Familiar 18 Septiembre                                                        </td><td>Servicio de Salud Magallanes               </td><td>Baja Complejidad   </td></tr>\n",
              "\t<tr><th scope=row>20</th><td>126095</td><td>Vacunatorio SEREMI de Salud Magallanes                                                        </td><td>SEREMI De Magallanes y la Antártica Chilena</td><td>Baja Complejidad   </td></tr>\n",
              "\t<tr><th scope=row>21</th><td>126212</td><td>Clínica de Recuperación Hogar de Cristo Juan Pablo II                                         </td><td>SEREMI De Magallanes y la Antártica Chilena</td><td>Pendiente          </td></tr>\n",
              "\t<tr><th scope=row>22</th><td>200700</td><td>Centro Diagnóstico  Clinica  Magallanes                                                       </td><td>SEREMI De Magallanes y la Antártica Chilena</td><td>Mediana Complejidad</td></tr>\n",
              "\t<tr><th scope=row>23</th><td>126214</td><td>Centro Médico y Dental MegaSalud S.A Punta Arenas                                             </td><td>SEREMI De Magallanes y la Antártica Chilena</td><td>Mediana Complejidad</td></tr>\n",
              "\t<tr><th scope=row>24</th><td>200542</td><td>Laboratorio Magallanes                                                                        </td><td>SEREMI De Magallanes y la Antártica Chilena</td><td>No Aplica          </td></tr>\n",
              "\t<tr><th scope=row>25</th><td>200921</td><td>Laboratorio Clínico Medi-Lab S.A                                                              </td><td>SEREMI De Magallanes y la Antártica Chilena</td><td>No Aplica          </td></tr>\n",
              "\t<tr><th scope=row>26</th><td>126211</td><td>Centro Médico Medvital                                                                        </td><td>SEREMI De Magallanes y la Antártica Chilena</td><td>Baja Complejidad   </td></tr>\n",
              "\t<tr><th scope=row>27</th><td>126222</td><td>Policlínico de la Fuerzas Armadas y de Orden                                                  </td><td>SEREMI De Magallanes y la Antártica Chilena</td><td>Baja Complejidad   </td></tr>\n",
              "\t<tr><th scope=row>28</th><td>126225</td><td>Clínica Croacia                                                                               </td><td>SEREMI De Magallanes y la Antártica Chilena</td><td>Pendiente          </td></tr>\n",
              "\t<tr><th scope=row>29</th><td>126213</td><td>Instituto Médico Sarmiento                                                                    </td><td>SEREMI De Magallanes y la Antártica Chilena</td><td>Baja Complejidad   </td></tr>\n",
              "\t<tr><th scope=row>30</th><td>126304</td><td>Centro de Salud Familiar Carlos Ibáñez                                                        </td><td>Servicio de Salud Magallanes               </td><td>Baja Complejidad   </td></tr>\n",
              "\t<tr><th scope=row>⋮</th><td>⋮</td><td>⋮</td><td>⋮</td><td>⋮</td></tr>\n",
              "\t<tr><th scope=row>4720</th><td>201730</td><td>Centro Médico Santa Rosa                           </td><td>SEREMI De Los Lagos             </td><td>Mediana Complejidad</td></tr>\n",
              "\t<tr><th scope=row>4721</th><td>201731</td><td>Centro Médico Archipielago                         </td><td>SEREMI De Los Lagos             </td><td>Mediana Complejidad</td></tr>\n",
              "\t<tr><th scope=row>4722</th><td>201732</td><td>Laboratorio Clinicio NEOLAB                        </td><td>SEREMI De Los Lagos             </td><td>No Aplica          </td></tr>\n",
              "\t<tr><th scope=row>4723</th><td>201733</td><td>Centro de Dialisis Acacia                          </td><td>SEREMI De Los Lagos             </td><td>Mediana Complejidad</td></tr>\n",
              "\t<tr><th scope=row>4724</th><td>201734</td><td>IntegraMédica S.A.  Ñuñoa                          </td><td>SEREMI Metropolitana de Santiago</td><td>Mediana Complejidad</td></tr>\n",
              "\t<tr><th scope=row>4725</th><td>201735</td><td>Vacunatorio Inmuniza                               </td><td>SEREMI Del Ñuble                </td><td>Baja Complejidad   </td></tr>\n",
              "\t<tr><th scope=row>4726</th><td>201736</td><td>Centro Kinésico Integral SpA                       </td><td>SEREMI Del Maule                </td><td>Mediana Complejidad</td></tr>\n",
              "\t<tr><th scope=row>4727</th><td>201737</td><td>Sociedad Médica Sepúlveda Cartes Limitada.         </td><td>SEREMI Del Maule                </td><td>Pendiente          </td></tr>\n",
              "\t<tr><th scope=row>4728</th><td>201738</td><td>Servicios Médicos Active SPA                       </td><td>SEREMI Del Maule                </td><td>Pendiente          </td></tr>\n",
              "\t<tr><th scope=row>4729</th><td>201739</td><td>Sociedad Médica Rojas- Rojas y Compañía Limitada   </td><td>SEREMI Del Maule                </td><td>Pendiente          </td></tr>\n",
              "\t<tr><th scope=row>4730</th><td>201740</td><td>Sociedad Salud y Bienestar MSO SPA                 </td><td>SEREMI Del Maule                </td><td>Pendiente          </td></tr>\n",
              "\t<tr><th scope=row>4731</th><td>201741</td><td>Centro Visual Curicó SPA                           </td><td>SEREMI Del Maule                </td><td>Pendiente          </td></tr>\n",
              "\t<tr><th scope=row>4732</th><td>201742</td><td>Medicina Estética Facial SEMEF SPA                 </td><td>SEREMI Del Maule                </td><td>No Aplica          </td></tr>\n",
              "\t<tr><th scope=row>4733</th><td>201743</td><td>Sociedad Encina y Encina LTDA.                     </td><td>SEREMI Del Maule                </td><td>Pendiente          </td></tr>\n",
              "\t<tr><th scope=row>4734</th><td>201744</td><td>Centro Estético Espacio Alma                       </td><td>SEREMI Del Maule                </td><td>Pendiente          </td></tr>\n",
              "\t<tr><th scope=row>4735</th><td>201745</td><td>MARAMAN SPA                                        </td><td>SEREMI Del Maule                </td><td>Pendiente          </td></tr>\n",
              "\t<tr><th scope=row>4736</th><td>201746</td><td>Femelle autocuidado SpA                            </td><td>SEREMI Del Maule                </td><td>Pendiente          </td></tr>\n",
              "\t<tr><th scope=row>4737</th><td>201747</td><td>Unidad de dolor crónico No Oncológico Borboleta SpA</td><td>SEREMI Del Maule                </td><td>Pendiente          </td></tr>\n",
              "\t<tr><th scope=row>4738</th><td>201748</td><td>Tega y Asociados SpA                               </td><td>SEREMI Del Maule                </td><td>Pendiente          </td></tr>\n",
              "\t<tr><th scope=row>4739</th><td>201749</td><td>Sociedad Médica de Servicios MM Ltda.              </td><td>SEREMI Del Maule                </td><td>Pendiente          </td></tr>\n",
              "\t<tr><th scope=row>4740</th><td>201750</td><td>Laboratorio Clínico Aguas Azules                   </td><td>SEREMI De Los Lagos             </td><td>No Aplica          </td></tr>\n",
              "\t<tr><th scope=row>4741</th><td>201751</td><td>Sociedad Medica Coromoto SPA                       </td><td>SEREMI Del Maule                </td><td>Mediana Complejidad</td></tr>\n",
              "\t<tr><th scope=row>4742</th><td>201752</td><td>Consulta medica Yerbas Buenas SPA                  </td><td>SEREMI Del Maule                </td><td>Baja Complejidad   </td></tr>\n",
              "\t<tr><th scope=row>4743</th><td>201753</td><td>Servicios Médicos Domingo Ltda                     </td><td>SEREMI Del Maule                </td><td>Mediana Complejidad</td></tr>\n",
              "\t<tr><th scope=row>4744</th><td>201754</td><td>Servicios Profesionales de Imagenología SpA        </td><td>SEREMI Del Maule                </td><td>No Aplica          </td></tr>\n",
              "\t<tr><th scope=row>4745</th><td>201755</td><td>Dana's Clinic Cirugía y Medicina Estética          </td><td>SEREMI Del Maule                </td><td>Pendiente          </td></tr>\n",
              "\t<tr><th scope=row>4746</th><td>201756</td><td>Centro de Salud Médico Estético y Odontológico SPA </td><td>SEREMI Del Maule                </td><td>Mediana Complejidad</td></tr>\n",
              "\t<tr><th scope=row>4747</th><td>201757</td><td>Clínica Dra. Daniela Celedón SpA                   </td><td>SEREMI Del Maule                </td><td>Pendiente          </td></tr>\n",
              "\t<tr><th scope=row>4748</th><td>201758</td><td>Fundación CAT Español UCM                          </td><td>SEREMI Del Maule                </td><td>Baja Complejidad   </td></tr>\n",
              "\t<tr><th scope=row>4749</th><td>201759</td><td>O3 of Medica                                       </td><td>SEREMI Del Maule                </td><td>Mediana Complejidad</td></tr>\n",
              "</tbody>\n",
              "</table>\n"
            ],
            "text/markdown": "\nA data.frame: 4749 × 4\n\n| <!--/--> | Centro_cod &lt;dbl&gt; | Centro &lt;chr&gt; | Servicio &lt;chr&gt; | Complejidad &lt;chr&gt; |\n|---|---|---|---|---|\n| 1 | 126704 | Hospital Comunitario Cristina Calderón de Puerto Williams                                      | Servicio de Salud Magallanes                | Baja Complejidad    |\n| 2 | 126204 | Hospital Naval (Puerto Williams)                                                               | SEREMI De Magallanes y la Antártica Chilena | Mediana Complejidad |\n| 3 | 126412 | Posta de Salud Rural Cameron                                                                   | Servicio de Salud Magallanes                | Baja Complejidad    |\n| 4 | 126414 | Posta de Salud Rural Agua Fresca                                                               | Servicio de Salud Magallanes                | Baja Complejidad    |\n| 5 | 126102 | Hospital Dr. Marco Antonio Chamorro ( Porvenir)                                                | Servicio de Salud Magallanes                | Baja Complejidad    |\n| 6 | 201364 |  UNO SALUD DENTAL LOS ÁNGELES 2                                                                | SEREMI Del Biobío                           | Mediana Complejidad |\n| 7 | 200311 | Centro Comunitario de Salud Familiar Dr. Juan Damianovic                                       | Servicio de Salud Magallanes                | Baja Complejidad    |\n| 8 | 200710 | Complejo Miraflores (Salud Mental)                                                             | Servicio de Salud Magallanes                | Mediana Complejidad |\n| 9 | 126606 | COSAM Punta Arenas                                                                             | Servicio de Salud Magallanes                | Mediana Complejidad |\n| 10 | 126801 | SAR Dr. Juan Damianovic                                                                        | Servicio de Salud Magallanes                | Mediana Complejidad |\n| 11 | 126301 | Centro de Salud Familiar Dr. Juan Damianovic                                                   | Servicio de Salud Magallanes                | Baja Complejidad    |\n| 12 | 126203 | Centro de Salud Mutual CChC Punta Arenas                                                       | SEREMI De Magallanes y la Antártica Chilena | Baja Complejidad    |\n| 13 | 200473 | Laboratorio Clínico de Agostini y Cia. Ltda.                                                   | SEREMI De Magallanes y la Antártica Chilena | No Aplica           |\n| 14 | 126228 | Laboratorio Clínico Corporación Municipal Punta Arenas                                         | Servicio de Salud Magallanes                | No Aplica           |\n| 15 | 126030 | Unidad de Salud Funcionario  S.S Magallanes                                                    | Servicio de Salud Magallanes                | Baja Complejidad    |\n| 16 | 126010 | Actividades gestionadas por la Dirección del Servicio para apoyo de la Red (S.S de Magallanes) | Servicio de Salud Magallanes                | Baja Complejidad    |\n| 17 | 126011 | PRAIS (S.S Magallanes)                                                                         | Servicio de Salud Magallanes                | Baja Complejidad    |\n| 18 | 200171 | SAPU 18 de Septiembre                                                                          | Servicio de Salud Magallanes                | Baja Complejidad    |\n| 19 | 126302 | Centro de Salud Familiar 18 Septiembre                                                         | Servicio de Salud Magallanes                | Baja Complejidad    |\n| 20 | 126095 | Vacunatorio SEREMI de Salud Magallanes                                                         | SEREMI De Magallanes y la Antártica Chilena | Baja Complejidad    |\n| 21 | 126212 | Clínica de Recuperación Hogar de Cristo Juan Pablo II                                          | SEREMI De Magallanes y la Antártica Chilena | Pendiente           |\n| 22 | 200700 | Centro Diagnóstico  Clinica  Magallanes                                                        | SEREMI De Magallanes y la Antártica Chilena | Mediana Complejidad |\n| 23 | 126214 | Centro Médico y Dental MegaSalud S.A Punta Arenas                                              | SEREMI De Magallanes y la Antártica Chilena | Mediana Complejidad |\n| 24 | 200542 | Laboratorio Magallanes                                                                         | SEREMI De Magallanes y la Antártica Chilena | No Aplica           |\n| 25 | 200921 | Laboratorio Clínico Medi-Lab S.A                                                               | SEREMI De Magallanes y la Antártica Chilena | No Aplica           |\n| 26 | 126211 | Centro Médico Medvital                                                                         | SEREMI De Magallanes y la Antártica Chilena | Baja Complejidad    |\n| 27 | 126222 | Policlínico de la Fuerzas Armadas y de Orden                                                   | SEREMI De Magallanes y la Antártica Chilena | Baja Complejidad    |\n| 28 | 126225 | Clínica Croacia                                                                                | SEREMI De Magallanes y la Antártica Chilena | Pendiente           |\n| 29 | 126213 | Instituto Médico Sarmiento                                                                     | SEREMI De Magallanes y la Antártica Chilena | Baja Complejidad    |\n| 30 | 126304 | Centro de Salud Familiar Carlos Ibáñez                                                         | Servicio de Salud Magallanes                | Baja Complejidad    |\n| ⋮ | ⋮ | ⋮ | ⋮ | ⋮ |\n| 4720 | 201730 | Centro Médico Santa Rosa                            | SEREMI De Los Lagos              | Mediana Complejidad |\n| 4721 | 201731 | Centro Médico Archipielago                          | SEREMI De Los Lagos              | Mediana Complejidad |\n| 4722 | 201732 | Laboratorio Clinicio NEOLAB                         | SEREMI De Los Lagos              | No Aplica           |\n| 4723 | 201733 | Centro de Dialisis Acacia                           | SEREMI De Los Lagos              | Mediana Complejidad |\n| 4724 | 201734 | IntegraMédica S.A.  Ñuñoa                           | SEREMI Metropolitana de Santiago | Mediana Complejidad |\n| 4725 | 201735 | Vacunatorio Inmuniza                                | SEREMI Del Ñuble                 | Baja Complejidad    |\n| 4726 | 201736 | Centro Kinésico Integral SpA                        | SEREMI Del Maule                 | Mediana Complejidad |\n| 4727 | 201737 | Sociedad Médica Sepúlveda Cartes Limitada.          | SEREMI Del Maule                 | Pendiente           |\n| 4728 | 201738 | Servicios Médicos Active SPA                        | SEREMI Del Maule                 | Pendiente           |\n| 4729 | 201739 | Sociedad Médica Rojas- Rojas y Compañía Limitada    | SEREMI Del Maule                 | Pendiente           |\n| 4730 | 201740 | Sociedad Salud y Bienestar MSO SPA                  | SEREMI Del Maule                 | Pendiente           |\n| 4731 | 201741 | Centro Visual Curicó SPA                            | SEREMI Del Maule                 | Pendiente           |\n| 4732 | 201742 | Medicina Estética Facial SEMEF SPA                  | SEREMI Del Maule                 | No Aplica           |\n| 4733 | 201743 | Sociedad Encina y Encina LTDA.                      | SEREMI Del Maule                 | Pendiente           |\n| 4734 | 201744 | Centro Estético Espacio Alma                        | SEREMI Del Maule                 | Pendiente           |\n| 4735 | 201745 | MARAMAN SPA                                         | SEREMI Del Maule                 | Pendiente           |\n| 4736 | 201746 | Femelle autocuidado SpA                             | SEREMI Del Maule                 | Pendiente           |\n| 4737 | 201747 | Unidad de dolor crónico No Oncológico Borboleta SpA | SEREMI Del Maule                 | Pendiente           |\n| 4738 | 201748 | Tega y Asociados SpA                                | SEREMI Del Maule                 | Pendiente           |\n| 4739 | 201749 | Sociedad Médica de Servicios MM Ltda.               | SEREMI Del Maule                 | Pendiente           |\n| 4740 | 201750 | Laboratorio Clínico Aguas Azules                    | SEREMI De Los Lagos              | No Aplica           |\n| 4741 | 201751 | Sociedad Medica Coromoto SPA                        | SEREMI Del Maule                 | Mediana Complejidad |\n| 4742 | 201752 | Consulta medica Yerbas Buenas SPA                   | SEREMI Del Maule                 | Baja Complejidad    |\n| 4743 | 201753 | Servicios Médicos Domingo Ltda                      | SEREMI Del Maule                 | Mediana Complejidad |\n| 4744 | 201754 | Servicios Profesionales de Imagenología SpA         | SEREMI Del Maule                 | No Aplica           |\n| 4745 | 201755 | Dana's Clinic Cirugía y Medicina Estética           | SEREMI Del Maule                 | Pendiente           |\n| 4746 | 201756 | Centro de Salud Médico Estético y Odontológico SPA  | SEREMI Del Maule                 | Mediana Complejidad |\n| 4747 | 201757 | Clínica Dra. Daniela Celedón SpA                    | SEREMI Del Maule                 | Pendiente           |\n| 4748 | 201758 | Fundación CAT Español UCM                           | SEREMI Del Maule                 | Baja Complejidad    |\n| 4749 | 201759 | O3 of Medica                                        | SEREMI Del Maule                 | Mediana Complejidad |\n\n",
            "text/latex": "A data.frame: 4749 × 4\n\\begin{tabular}{r|llll}\n  & Centro\\_cod & Centro & Servicio & Complejidad\\\\\n  & <dbl> & <chr> & <chr> & <chr>\\\\\n\\hline\n\t1 & 126704 & Hospital Comunitario Cristina Calderón de Puerto Williams                                      & Servicio de Salud Magallanes                & Baja Complejidad   \\\\\n\t2 & 126204 & Hospital Naval (Puerto Williams)                                                               & SEREMI De Magallanes y la Antártica Chilena & Mediana Complejidad\\\\\n\t3 & 126412 & Posta de Salud Rural Cameron                                                                   & Servicio de Salud Magallanes                & Baja Complejidad   \\\\\n\t4 & 126414 & Posta de Salud Rural Agua Fresca                                                               & Servicio de Salud Magallanes                & Baja Complejidad   \\\\\n\t5 & 126102 & Hospital Dr. Marco Antonio Chamorro ( Porvenir)                                                & Servicio de Salud Magallanes                & Baja Complejidad   \\\\\n\t6 & 201364 &  UNO SALUD DENTAL LOS ÁNGELES 2                                                                & SEREMI Del Biobío                           & Mediana Complejidad\\\\\n\t7 & 200311 & Centro Comunitario de Salud Familiar Dr. Juan Damianovic                                       & Servicio de Salud Magallanes                & Baja Complejidad   \\\\\n\t8 & 200710 & Complejo Miraflores (Salud Mental)                                                             & Servicio de Salud Magallanes                & Mediana Complejidad\\\\\n\t9 & 126606 & COSAM Punta Arenas                                                                             & Servicio de Salud Magallanes                & Mediana Complejidad\\\\\n\t10 & 126801 & SAR Dr. Juan Damianovic                                                                        & Servicio de Salud Magallanes                & Mediana Complejidad\\\\\n\t11 & 126301 & Centro de Salud Familiar Dr. Juan Damianovic                                                   & Servicio de Salud Magallanes                & Baja Complejidad   \\\\\n\t12 & 126203 & Centro de Salud Mutual CChC Punta Arenas                                                       & SEREMI De Magallanes y la Antártica Chilena & Baja Complejidad   \\\\\n\t13 & 200473 & Laboratorio Clínico de Agostini y Cia. Ltda.                                                   & SEREMI De Magallanes y la Antártica Chilena & No Aplica          \\\\\n\t14 & 126228 & Laboratorio Clínico Corporación Municipal Punta Arenas                                         & Servicio de Salud Magallanes                & No Aplica          \\\\\n\t15 & 126030 & Unidad de Salud Funcionario  S.S Magallanes                                                    & Servicio de Salud Magallanes                & Baja Complejidad   \\\\\n\t16 & 126010 & Actividades gestionadas por la Dirección del Servicio para apoyo de la Red (S.S de Magallanes) & Servicio de Salud Magallanes                & Baja Complejidad   \\\\\n\t17 & 126011 & PRAIS (S.S Magallanes)                                                                         & Servicio de Salud Magallanes                & Baja Complejidad   \\\\\n\t18 & 200171 & SAPU 18 de Septiembre                                                                          & Servicio de Salud Magallanes                & Baja Complejidad   \\\\\n\t19 & 126302 & Centro de Salud Familiar 18 Septiembre                                                         & Servicio de Salud Magallanes                & Baja Complejidad   \\\\\n\t20 & 126095 & Vacunatorio SEREMI de Salud Magallanes                                                         & SEREMI De Magallanes y la Antártica Chilena & Baja Complejidad   \\\\\n\t21 & 126212 & Clínica de Recuperación Hogar de Cristo Juan Pablo II                                          & SEREMI De Magallanes y la Antártica Chilena & Pendiente          \\\\\n\t22 & 200700 & Centro Diagnóstico  Clinica  Magallanes                                                        & SEREMI De Magallanes y la Antártica Chilena & Mediana Complejidad\\\\\n\t23 & 126214 & Centro Médico y Dental MegaSalud S.A Punta Arenas                                              & SEREMI De Magallanes y la Antártica Chilena & Mediana Complejidad\\\\\n\t24 & 200542 & Laboratorio Magallanes                                                                         & SEREMI De Magallanes y la Antártica Chilena & No Aplica          \\\\\n\t25 & 200921 & Laboratorio Clínico Medi-Lab S.A                                                               & SEREMI De Magallanes y la Antártica Chilena & No Aplica          \\\\\n\t26 & 126211 & Centro Médico Medvital                                                                         & SEREMI De Magallanes y la Antártica Chilena & Baja Complejidad   \\\\\n\t27 & 126222 & Policlínico de la Fuerzas Armadas y de Orden                                                   & SEREMI De Magallanes y la Antártica Chilena & Baja Complejidad   \\\\\n\t28 & 126225 & Clínica Croacia                                                                                & SEREMI De Magallanes y la Antártica Chilena & Pendiente          \\\\\n\t29 & 126213 & Instituto Médico Sarmiento                                                                     & SEREMI De Magallanes y la Antártica Chilena & Baja Complejidad   \\\\\n\t30 & 126304 & Centro de Salud Familiar Carlos Ibáñez                                                         & Servicio de Salud Magallanes                & Baja Complejidad   \\\\\n\t⋮ & ⋮ & ⋮ & ⋮ & ⋮\\\\\n\t4720 & 201730 & Centro Médico Santa Rosa                            & SEREMI De Los Lagos              & Mediana Complejidad\\\\\n\t4721 & 201731 & Centro Médico Archipielago                          & SEREMI De Los Lagos              & Mediana Complejidad\\\\\n\t4722 & 201732 & Laboratorio Clinicio NEOLAB                         & SEREMI De Los Lagos              & No Aplica          \\\\\n\t4723 & 201733 & Centro de Dialisis Acacia                           & SEREMI De Los Lagos              & Mediana Complejidad\\\\\n\t4724 & 201734 & IntegraMédica S.A.  Ñuñoa                           & SEREMI Metropolitana de Santiago & Mediana Complejidad\\\\\n\t4725 & 201735 & Vacunatorio Inmuniza                                & SEREMI Del Ñuble                 & Baja Complejidad   \\\\\n\t4726 & 201736 & Centro Kinésico Integral SpA                        & SEREMI Del Maule                 & Mediana Complejidad\\\\\n\t4727 & 201737 & Sociedad Médica Sepúlveda Cartes Limitada.          & SEREMI Del Maule                 & Pendiente          \\\\\n\t4728 & 201738 & Servicios Médicos Active SPA                        & SEREMI Del Maule                 & Pendiente          \\\\\n\t4729 & 201739 & Sociedad Médica Rojas- Rojas y Compañía Limitada    & SEREMI Del Maule                 & Pendiente          \\\\\n\t4730 & 201740 & Sociedad Salud y Bienestar MSO SPA                  & SEREMI Del Maule                 & Pendiente          \\\\\n\t4731 & 201741 & Centro Visual Curicó SPA                            & SEREMI Del Maule                 & Pendiente          \\\\\n\t4732 & 201742 & Medicina Estética Facial SEMEF SPA                  & SEREMI Del Maule                 & No Aplica          \\\\\n\t4733 & 201743 & Sociedad Encina y Encina LTDA.                      & SEREMI Del Maule                 & Pendiente          \\\\\n\t4734 & 201744 & Centro Estético Espacio Alma                        & SEREMI Del Maule                 & Pendiente          \\\\\n\t4735 & 201745 & MARAMAN SPA                                         & SEREMI Del Maule                 & Pendiente          \\\\\n\t4736 & 201746 & Femelle autocuidado SpA                             & SEREMI Del Maule                 & Pendiente          \\\\\n\t4737 & 201747 & Unidad de dolor crónico No Oncológico Borboleta SpA & SEREMI Del Maule                 & Pendiente          \\\\\n\t4738 & 201748 & Tega y Asociados SpA                                & SEREMI Del Maule                 & Pendiente          \\\\\n\t4739 & 201749 & Sociedad Médica de Servicios MM Ltda.               & SEREMI Del Maule                 & Pendiente          \\\\\n\t4740 & 201750 & Laboratorio Clínico Aguas Azules                    & SEREMI De Los Lagos              & No Aplica          \\\\\n\t4741 & 201751 & Sociedad Medica Coromoto SPA                        & SEREMI Del Maule                 & Mediana Complejidad\\\\\n\t4742 & 201752 & Consulta medica Yerbas Buenas SPA                   & SEREMI Del Maule                 & Baja Complejidad   \\\\\n\t4743 & 201753 & Servicios Médicos Domingo Ltda                      & SEREMI Del Maule                 & Mediana Complejidad\\\\\n\t4744 & 201754 & Servicios Profesionales de Imagenología SpA         & SEREMI Del Maule                 & No Aplica          \\\\\n\t4745 & 201755 & Dana's Clinic Cirugía y Medicina Estética           & SEREMI Del Maule                 & Pendiente          \\\\\n\t4746 & 201756 & Centro de Salud Médico Estético y Odontológico SPA  & SEREMI Del Maule                 & Mediana Complejidad\\\\\n\t4747 & 201757 & Clínica Dra. Daniela Celedón SpA                    & SEREMI Del Maule                 & Pendiente          \\\\\n\t4748 & 201758 & Fundación CAT Español UCM                           & SEREMI Del Maule                 & Baja Complejidad   \\\\\n\t4749 & 201759 & O3 of Medica                                        & SEREMI Del Maule                 & Mediana Complejidad\\\\\n\\end{tabular}\n",
            "text/plain": [
              "     Centro_cod\n",
              "1    126704    \n",
              "2    126204    \n",
              "3    126412    \n",
              "4    126414    \n",
              "5    126102    \n",
              "6    201364    \n",
              "7    200311    \n",
              "8    200710    \n",
              "9    126606    \n",
              "10   126801    \n",
              "11   126301    \n",
              "12   126203    \n",
              "13   200473    \n",
              "14   126228    \n",
              "15   126030    \n",
              "16   126010    \n",
              "17   126011    \n",
              "18   200171    \n",
              "19   126302    \n",
              "20   126095    \n",
              "21   126212    \n",
              "22   200700    \n",
              "23   126214    \n",
              "24   200542    \n",
              "25   200921    \n",
              "26   126211    \n",
              "27   126222    \n",
              "28   126225    \n",
              "29   126213    \n",
              "30   126304    \n",
              "⋮    ⋮         \n",
              "4720 201730    \n",
              "4721 201731    \n",
              "4722 201732    \n",
              "4723 201733    \n",
              "4724 201734    \n",
              "4725 201735    \n",
              "4726 201736    \n",
              "4727 201737    \n",
              "4728 201738    \n",
              "4729 201739    \n",
              "4730 201740    \n",
              "4731 201741    \n",
              "4732 201742    \n",
              "4733 201743    \n",
              "4734 201744    \n",
              "4735 201745    \n",
              "4736 201746    \n",
              "4737 201747    \n",
              "4738 201748    \n",
              "4739 201749    \n",
              "4740 201750    \n",
              "4741 201751    \n",
              "4742 201752    \n",
              "4743 201753    \n",
              "4744 201754    \n",
              "4745 201755    \n",
              "4746 201756    \n",
              "4747 201757    \n",
              "4748 201758    \n",
              "4749 201759    \n",
              "     Centro                                                                                        \n",
              "1    Hospital Comunitario Cristina Calderón de Puerto Williams                                     \n",
              "2    Hospital Naval (Puerto Williams)                                                              \n",
              "3    Posta de Salud Rural Cameron                                                                  \n",
              "4    Posta de Salud Rural Agua Fresca                                                              \n",
              "5    Hospital Dr. Marco Antonio Chamorro ( Porvenir)                                               \n",
              "6     UNO SALUD DENTAL LOS ÁNGELES 2                                                               \n",
              "7    Centro Comunitario de Salud Familiar Dr. Juan Damianovic                                      \n",
              "8    Complejo Miraflores (Salud Mental)                                                            \n",
              "9    COSAM Punta Arenas                                                                            \n",
              "10   SAR Dr. Juan Damianovic                                                                       \n",
              "11   Centro de Salud Familiar Dr. Juan Damianovic                                                  \n",
              "12   Centro de Salud Mutual CChC Punta Arenas                                                      \n",
              "13   Laboratorio Clínico de Agostini y Cia. Ltda.                                                  \n",
              "14   Laboratorio Clínico Corporación Municipal Punta Arenas                                        \n",
              "15   Unidad de Salud Funcionario  S.S Magallanes                                                   \n",
              "16   Actividades gestionadas por la Dirección del Servicio para apoyo de la Red (S.S de Magallanes)\n",
              "17   PRAIS (S.S Magallanes)                                                                        \n",
              "18   SAPU 18 de Septiembre                                                                         \n",
              "19   Centro de Salud Familiar 18 Septiembre                                                        \n",
              "20   Vacunatorio SEREMI de Salud Magallanes                                                        \n",
              "21   Clínica de Recuperación Hogar de Cristo Juan Pablo II                                         \n",
              "22   Centro Diagnóstico  Clinica  Magallanes                                                       \n",
              "23   Centro Médico y Dental MegaSalud S.A Punta Arenas                                             \n",
              "24   Laboratorio Magallanes                                                                        \n",
              "25   Laboratorio Clínico Medi-Lab S.A                                                              \n",
              "26   Centro Médico Medvital                                                                        \n",
              "27   Policlínico de la Fuerzas Armadas y de Orden                                                  \n",
              "28   Clínica Croacia                                                                               \n",
              "29   Instituto Médico Sarmiento                                                                    \n",
              "30   Centro de Salud Familiar Carlos Ibáñez                                                        \n",
              "⋮    ⋮                                                                                             \n",
              "4720 Centro Médico Santa Rosa                                                                      \n",
              "4721 Centro Médico Archipielago                                                                    \n",
              "4722 Laboratorio Clinicio NEOLAB                                                                   \n",
              "4723 Centro de Dialisis Acacia                                                                     \n",
              "4724 IntegraMédica S.A.  Ñuñoa                                                                     \n",
              "4725 Vacunatorio Inmuniza                                                                          \n",
              "4726 Centro Kinésico Integral SpA                                                                  \n",
              "4727 Sociedad Médica Sepúlveda Cartes Limitada.                                                    \n",
              "4728 Servicios Médicos Active SPA                                                                  \n",
              "4729 Sociedad Médica Rojas- Rojas y Compañía Limitada                                              \n",
              "4730 Sociedad Salud y Bienestar MSO SPA                                                            \n",
              "4731 Centro Visual Curicó SPA                                                                      \n",
              "4732 Medicina Estética Facial SEMEF SPA                                                            \n",
              "4733 Sociedad Encina y Encina LTDA.                                                                \n",
              "4734 Centro Estético Espacio Alma                                                                  \n",
              "4735 MARAMAN SPA                                                                                   \n",
              "4736 Femelle autocuidado SpA                                                                       \n",
              "4737 Unidad de dolor crónico No Oncológico Borboleta SpA                                           \n",
              "4738 Tega y Asociados SpA                                                                          \n",
              "4739 Sociedad Médica de Servicios MM Ltda.                                                         \n",
              "4740 Laboratorio Clínico Aguas Azules                                                              \n",
              "4741 Sociedad Medica Coromoto SPA                                                                  \n",
              "4742 Consulta medica Yerbas Buenas SPA                                                             \n",
              "4743 Servicios Médicos Domingo Ltda                                                                \n",
              "4744 Servicios Profesionales de Imagenología SpA                                                   \n",
              "4745 Dana's Clinic Cirugía y Medicina Estética                                                     \n",
              "4746 Centro de Salud Médico Estético y Odontológico SPA                                            \n",
              "4747 Clínica Dra. Daniela Celedón SpA                                                              \n",
              "4748 Fundación CAT Español UCM                                                                     \n",
              "4749 O3 of Medica                                                                                  \n",
              "     Servicio                                    Complejidad        \n",
              "1    Servicio de Salud Magallanes                Baja Complejidad   \n",
              "2    SEREMI De Magallanes y la Antártica Chilena Mediana Complejidad\n",
              "3    Servicio de Salud Magallanes                Baja Complejidad   \n",
              "4    Servicio de Salud Magallanes                Baja Complejidad   \n",
              "5    Servicio de Salud Magallanes                Baja Complejidad   \n",
              "6    SEREMI Del Biobío                           Mediana Complejidad\n",
              "7    Servicio de Salud Magallanes                Baja Complejidad   \n",
              "8    Servicio de Salud Magallanes                Mediana Complejidad\n",
              "9    Servicio de Salud Magallanes                Mediana Complejidad\n",
              "10   Servicio de Salud Magallanes                Mediana Complejidad\n",
              "11   Servicio de Salud Magallanes                Baja Complejidad   \n",
              "12   SEREMI De Magallanes y la Antártica Chilena Baja Complejidad   \n",
              "13   SEREMI De Magallanes y la Antártica Chilena No Aplica          \n",
              "14   Servicio de Salud Magallanes                No Aplica          \n",
              "15   Servicio de Salud Magallanes                Baja Complejidad   \n",
              "16   Servicio de Salud Magallanes                Baja Complejidad   \n",
              "17   Servicio de Salud Magallanes                Baja Complejidad   \n",
              "18   Servicio de Salud Magallanes                Baja Complejidad   \n",
              "19   Servicio de Salud Magallanes                Baja Complejidad   \n",
              "20   SEREMI De Magallanes y la Antártica Chilena Baja Complejidad   \n",
              "21   SEREMI De Magallanes y la Antártica Chilena Pendiente          \n",
              "22   SEREMI De Magallanes y la Antártica Chilena Mediana Complejidad\n",
              "23   SEREMI De Magallanes y la Antártica Chilena Mediana Complejidad\n",
              "24   SEREMI De Magallanes y la Antártica Chilena No Aplica          \n",
              "25   SEREMI De Magallanes y la Antártica Chilena No Aplica          \n",
              "26   SEREMI De Magallanes y la Antártica Chilena Baja Complejidad   \n",
              "27   SEREMI De Magallanes y la Antártica Chilena Baja Complejidad   \n",
              "28   SEREMI De Magallanes y la Antártica Chilena Pendiente          \n",
              "29   SEREMI De Magallanes y la Antártica Chilena Baja Complejidad   \n",
              "30   Servicio de Salud Magallanes                Baja Complejidad   \n",
              "⋮    ⋮                                           ⋮                  \n",
              "4720 SEREMI De Los Lagos                         Mediana Complejidad\n",
              "4721 SEREMI De Los Lagos                         Mediana Complejidad\n",
              "4722 SEREMI De Los Lagos                         No Aplica          \n",
              "4723 SEREMI De Los Lagos                         Mediana Complejidad\n",
              "4724 SEREMI Metropolitana de Santiago            Mediana Complejidad\n",
              "4725 SEREMI Del Ñuble                            Baja Complejidad   \n",
              "4726 SEREMI Del Maule                            Mediana Complejidad\n",
              "4727 SEREMI Del Maule                            Pendiente          \n",
              "4728 SEREMI Del Maule                            Pendiente          \n",
              "4729 SEREMI Del Maule                            Pendiente          \n",
              "4730 SEREMI Del Maule                            Pendiente          \n",
              "4731 SEREMI Del Maule                            Pendiente          \n",
              "4732 SEREMI Del Maule                            No Aplica          \n",
              "4733 SEREMI Del Maule                            Pendiente          \n",
              "4734 SEREMI Del Maule                            Pendiente          \n",
              "4735 SEREMI Del Maule                            Pendiente          \n",
              "4736 SEREMI Del Maule                            Pendiente          \n",
              "4737 SEREMI Del Maule                            Pendiente          \n",
              "4738 SEREMI Del Maule                            Pendiente          \n",
              "4739 SEREMI Del Maule                            Pendiente          \n",
              "4740 SEREMI De Los Lagos                         No Aplica          \n",
              "4741 SEREMI Del Maule                            Mediana Complejidad\n",
              "4742 SEREMI Del Maule                            Baja Complejidad   \n",
              "4743 SEREMI Del Maule                            Mediana Complejidad\n",
              "4744 SEREMI Del Maule                            No Aplica          \n",
              "4745 SEREMI Del Maule                            Pendiente          \n",
              "4746 SEREMI Del Maule                            Mediana Complejidad\n",
              "4747 SEREMI Del Maule                            Pendiente          \n",
              "4748 SEREMI Del Maule                            Baja Complejidad   \n",
              "4749 SEREMI Del Maule                            Mediana Complejidad"
            ]
          },
          "metadata": {}
        }
      ]
    },
    {
      "cell_type": "markdown",
      "source": [
        "# Cubo\n",
        "Generamos una tabla multidimensional uniendo la tabla Fact con las dimensiones utilizando las llaves."
      ],
      "metadata": {
        "id": "5LXVJJ0fQpWM"
      }
    },
    {
      "cell_type": "code",
      "source": [
        "cubo <- fact %>%\n",
        "  dplyr::left_join(dim_especialidad, by = \"Especialidad_cod\") %>%  # Unir con dim_especialidad en 'Especialidad_cod'\n",
        "  dplyr::left_join(dim_centro, by = \"Centro_cod\") %>%              # Unir con dim_centro en 'Centro_cod'\n",
        "  dplyr::left_join(dim_periodo, by = \"Mes\")                        # Unir con dim_periodo en 'Mes'\n",
        "\n",
        "set.seed(2125)\n",
        "cubo %>%\n",
        "  sample_n(5, replace = TRUE)"
      ],
      "metadata": {
        "colab": {
          "base_uri": "https://localhost:8080/",
          "height": 637
        },
        "id": "eqLQNhb5QnTm",
        "outputId": "244a7b7d-950e-476d-c94b-c7bfe44fe668"
      },
      "execution_count": null,
      "outputs": [
        {
          "output_type": "display_data",
          "data": {
            "text/html": [
              "<table class=\"dataframe\">\n",
              "<caption>A data.frame: 5 × 13</caption>\n",
              "<thead>\n",
              "\t<tr><th scope=col>Centro_cod</th><th scope=col>Especialidad_cod</th><th scope=col>Mes</th><th scope=col>CNE_solicitadas</th><th scope=col>CNE_producidas</th><th scope=col>Especialidad</th><th scope=col>Especialidad_REM</th><th scope=col>Riesgo_mortalidad</th><th scope=col>Centro</th><th scope=col>Servicio</th><th scope=col>Complejidad</th><th scope=col>Año</th><th scope=col>Trimestre</th></tr>\n",
              "\t<tr><th scope=col>&lt;dbl&gt;</th><th scope=col>&lt;chr&gt;</th><th scope=col>&lt;dbl&gt;</th><th scope=col>&lt;int&gt;</th><th scope=col>&lt;int&gt;</th><th scope=col>&lt;chr&gt;</th><th scope=col>&lt;chr&gt;</th><th scope=col>&lt;chr&gt;</th><th scope=col>&lt;chr&gt;</th><th scope=col>&lt;chr&gt;</th><th scope=col>&lt;chr&gt;</th><th scope=col>&lt;dbl&gt;</th><th scope=col>&lt;int&gt;</th></tr>\n",
              "</thead>\n",
              "<tbody>\n",
              "\t<tr><td>114101</td><td>07-013</td><td> 4</td><td> 0</td><td>25</td><td>DIABETOLOGÍA                               </td><td>Si</td><td>No</td><td>Complejo Hospitalario Dr. Sótero del Río (Santiago, Puente Alto)  </td><td>Servicio de Salud Metropolitano Sur Oriente</td><td>Alta Complejidad   </td><td>2021</td><td>2</td></tr>\n",
              "\t<tr><td>114105</td><td>07-014</td><td>12</td><td>49</td><td>40</td><td>ENDOCRINOLOGÍA ADULTO                      </td><td>Si</td><td>No</td><td>Hospital Clínico Metropolitano La Florida Dra. Eloísa Díaz Insunza</td><td>Servicio de Salud Metropolitano Sur Oriente</td><td>Alta Complejidad   </td><td>2021</td><td>4</td></tr>\n",
              "\t<tr><td>114101</td><td>07-048</td><td> 4</td><td>45</td><td>27</td><td>PSIQUIATRÍA ADULTO                         </td><td>Si</td><td>No</td><td>Complejo Hospitalario Dr. Sótero del Río (Santiago, Puente Alto)  </td><td>Servicio de Salud Metropolitano Sur Oriente</td><td>Alta Complejidad   </td><td>2021</td><td>2</td></tr>\n",
              "\t<tr><td>200282</td><td>07-051</td><td>11</td><td> 2</td><td> 0</td><td>REUMATOLOGÍA                               </td><td>Si</td><td>No</td><td>Centro de Referencia de Salud Hospital Provincia Cordillera       </td><td>Servicio de Salud Metropolitano Sur Oriente</td><td>Mediana Complejidad</td><td>2021</td><td>4</td></tr>\n",
              "\t<tr><td>114105</td><td>07-049</td><td> 6</td><td>42</td><td>16</td><td>PSIQUIATRÍA PEDIÁTRICA Y DE LA ADOLESCENCIA</td><td>Si</td><td>No</td><td>Hospital Clínico Metropolitano La Florida Dra. Eloísa Díaz Insunza</td><td>Servicio de Salud Metropolitano Sur Oriente</td><td>Alta Complejidad   </td><td>2021</td><td>2</td></tr>\n",
              "</tbody>\n",
              "</table>\n"
            ],
            "text/markdown": "\nA data.frame: 5 × 13\n\n| Centro_cod &lt;dbl&gt; | Especialidad_cod &lt;chr&gt; | Mes &lt;dbl&gt; | CNE_solicitadas &lt;int&gt; | CNE_producidas &lt;int&gt; | Especialidad &lt;chr&gt; | Especialidad_REM &lt;chr&gt; | Riesgo_mortalidad &lt;chr&gt; | Centro &lt;chr&gt; | Servicio &lt;chr&gt; | Complejidad &lt;chr&gt; | Año &lt;dbl&gt; | Trimestre &lt;int&gt; |\n|---|---|---|---|---|---|---|---|---|---|---|---|---|\n| 114101 | 07-013 |  4 |  0 | 25 | DIABETOLOGÍA                                | Si | No | Complejo Hospitalario Dr. Sótero del Río (Santiago, Puente Alto)   | Servicio de Salud Metropolitano Sur Oriente | Alta Complejidad    | 2021 | 2 |\n| 114105 | 07-014 | 12 | 49 | 40 | ENDOCRINOLOGÍA ADULTO                       | Si | No | Hospital Clínico Metropolitano La Florida Dra. Eloísa Díaz Insunza | Servicio de Salud Metropolitano Sur Oriente | Alta Complejidad    | 2021 | 4 |\n| 114101 | 07-048 |  4 | 45 | 27 | PSIQUIATRÍA ADULTO                          | Si | No | Complejo Hospitalario Dr. Sótero del Río (Santiago, Puente Alto)   | Servicio de Salud Metropolitano Sur Oriente | Alta Complejidad    | 2021 | 2 |\n| 200282 | 07-051 | 11 |  2 |  0 | REUMATOLOGÍA                                | Si | No | Centro de Referencia de Salud Hospital Provincia Cordillera        | Servicio de Salud Metropolitano Sur Oriente | Mediana Complejidad | 2021 | 4 |\n| 114105 | 07-049 |  6 | 42 | 16 | PSIQUIATRÍA PEDIÁTRICA Y DE LA ADOLESCENCIA | Si | No | Hospital Clínico Metropolitano La Florida Dra. Eloísa Díaz Insunza | Servicio de Salud Metropolitano Sur Oriente | Alta Complejidad    | 2021 | 2 |\n\n",
            "text/latex": "A data.frame: 5 × 13\n\\begin{tabular}{lllllllllllll}\n Centro\\_cod & Especialidad\\_cod & Mes & CNE\\_solicitadas & CNE\\_producidas & Especialidad & Especialidad\\_REM & Riesgo\\_mortalidad & Centro & Servicio & Complejidad & Año & Trimestre\\\\\n <dbl> & <chr> & <dbl> & <int> & <int> & <chr> & <chr> & <chr> & <chr> & <chr> & <chr> & <dbl> & <int>\\\\\n\\hline\n\t 114101 & 07-013 &  4 &  0 & 25 & DIABETOLOGÍA                                & Si & No & Complejo Hospitalario Dr. Sótero del Río (Santiago, Puente Alto)   & Servicio de Salud Metropolitano Sur Oriente & Alta Complejidad    & 2021 & 2\\\\\n\t 114105 & 07-014 & 12 & 49 & 40 & ENDOCRINOLOGÍA ADULTO                       & Si & No & Hospital Clínico Metropolitano La Florida Dra. Eloísa Díaz Insunza & Servicio de Salud Metropolitano Sur Oriente & Alta Complejidad    & 2021 & 4\\\\\n\t 114101 & 07-048 &  4 & 45 & 27 & PSIQUIATRÍA ADULTO                          & Si & No & Complejo Hospitalario Dr. Sótero del Río (Santiago, Puente Alto)   & Servicio de Salud Metropolitano Sur Oriente & Alta Complejidad    & 2021 & 2\\\\\n\t 200282 & 07-051 & 11 &  2 &  0 & REUMATOLOGÍA                                & Si & No & Centro de Referencia de Salud Hospital Provincia Cordillera        & Servicio de Salud Metropolitano Sur Oriente & Mediana Complejidad & 2021 & 4\\\\\n\t 114105 & 07-049 &  6 & 42 & 16 & PSIQUIATRÍA PEDIÁTRICA Y DE LA ADOLESCENCIA & Si & No & Hospital Clínico Metropolitano La Florida Dra. Eloísa Díaz Insunza & Servicio de Salud Metropolitano Sur Oriente & Alta Complejidad    & 2021 & 2\\\\\n\\end{tabular}\n",
            "text/plain": [
              "  Centro_cod Especialidad_cod Mes CNE_solicitadas CNE_producidas\n",
              "1 114101     07-013            4   0              25            \n",
              "2 114105     07-014           12  49              40            \n",
              "3 114101     07-048            4  45              27            \n",
              "4 200282     07-051           11   2               0            \n",
              "5 114105     07-049            6  42              16            \n",
              "  Especialidad                                Especialidad_REM\n",
              "1 DIABETOLOGÍA                                Si              \n",
              "2 ENDOCRINOLOGÍA ADULTO                       Si              \n",
              "3 PSIQUIATRÍA ADULTO                          Si              \n",
              "4 REUMATOLOGÍA                                Si              \n",
              "5 PSIQUIATRÍA PEDIÁTRICA Y DE LA ADOLESCENCIA Si              \n",
              "  Riesgo_mortalidad\n",
              "1 No               \n",
              "2 No               \n",
              "3 No               \n",
              "4 No               \n",
              "5 No               \n",
              "  Centro                                                            \n",
              "1 Complejo Hospitalario Dr. Sótero del Río (Santiago, Puente Alto)  \n",
              "2 Hospital Clínico Metropolitano La Florida Dra. Eloísa Díaz Insunza\n",
              "3 Complejo Hospitalario Dr. Sótero del Río (Santiago, Puente Alto)  \n",
              "4 Centro de Referencia de Salud Hospital Provincia Cordillera       \n",
              "5 Hospital Clínico Metropolitano La Florida Dra. Eloísa Díaz Insunza\n",
              "  Servicio                                    Complejidad         Año \n",
              "1 Servicio de Salud Metropolitano Sur Oriente Alta Complejidad    2021\n",
              "2 Servicio de Salud Metropolitano Sur Oriente Alta Complejidad    2021\n",
              "3 Servicio de Salud Metropolitano Sur Oriente Alta Complejidad    2021\n",
              "4 Servicio de Salud Metropolitano Sur Oriente Mediana Complejidad 2021\n",
              "5 Servicio de Salud Metropolitano Sur Oriente Alta Complejidad    2021\n",
              "  Trimestre\n",
              "1 2        \n",
              "2 4        \n",
              "3 2        \n",
              "4 4        \n",
              "5 2        "
            ]
          },
          "metadata": {}
        }
      ]
    },
    {
      "cell_type": "code",
      "source": [
        "# Exportamos a la carpeta con los cubos\n",
        " cubo%>%\n",
        "  rio::export(paste0(datos_cubos, 'Cubo_brechas_CNE.xlsx'), rowNames = FALSE)"
      ],
      "metadata": {
        "id": "U8TzZuAgVCvL"
      },
      "execution_count": null,
      "outputs": []
    },
    {
      "cell_type": "markdown",
      "source": [
        "## 🏁 Discusión\n",
        "1. ¿Qué campos tienen redundancias? (¿Cuál forma normal no se cumple?)\n",
        "3. ¿Cuál es el propósito de introducir esta redundancia?\n",
        "4. ¿Existe el riesgo que se produzan inconsistencias en los nombres de los centros o especialidades?\n",
        "1. ¿Qué cambios tendría que hacer a esta tabla si tuviera:\n",
        "  - Datos del 2021 al 2024?\n",
        "  - Datos de más establecimientos?"
      ],
      "metadata": {
        "id": "57-TXjbm7P5A"
      }
    }
  ]
}