{
  "nbformat": 4,
  "nbformat_minor": 0,
  "metadata": {
    "colab": {
      "provenance": [],
      "toc_visible": true
    },
    "kernelspec": {
      "name": "python3",
      "display_name": "Python 3"
    },
    "language_info": {
      "name": "python"
    }
  },
  "cells": [
    {
      "cell_type": "markdown",
      "source": [
        "# Ejercicio: construir gráficos interactivos\n",
        "\n",
        "En este ejercicio vamos a visualizar los datos de demanda y oferta de consultas de especialidad médica y reproducir los [análisis de brechas en el SSMSO 2021](https://www.revistamedicadechile.cl/index.php/rmedica/article/view/10435). Para ello necesitamos:\n",
        "\n",
        "1. Cargar el cubo de datos\n",
        "2. Hacer un análisis exploratorio de datos\n",
        "  - Crear una tabla de contingencia (oferta vs demanda por establecimiento y año)\n",
        "3. Crear una función para graficar las series de tiempo\n",
        "  - Filtrar por especialidad\n",
        "  - Estratificar por establecimiento\n",
        "4. Graficar las brechas de consultas"
      ],
      "metadata": {
        "id": "Rj2O9vBeUm4m"
      }
    },
    {
      "cell_type": "markdown",
      "source": [
        "# Configurar área de trabajo y cargar datos\n",
        "Usaremos las librerías de [Plotly](https://plotly.com/graphing-libraries/) para construir gráficos interactivos 📊✨."
      ],
      "metadata": {
        "id": "MaOcb78zSyWR"
      }
    },
    {
      "cell_type": "code",
      "execution_count": null,
      "metadata": {
        "id": "s-6JyxPEUl4j"
      },
      "outputs": [],
      "source": [
        "# importar librerías\n",
        "import pandas as pd\n",
        "import os\n",
        "import plotly.express as px\n",
        "import plotly.graph_objects as go\n",
        "from plotly.subplots import make_subplots\n",
        "\n",
        "# definir carpetas de trabajo\n",
        "datos_multidimensionales = 'https://github.com/rlagosb/taller_eiv/raw/refs/heads/main/datos_multidimensionales/'"
      ]
    },
    {
      "cell_type": "code",
      "source": [
        "# cargar datos\n",
        "cubo = pd.read_excel(datos_multidimensionales + 'Cubo_consultas_nuevas.xlsx')"
      ],
      "metadata": {
        "id": "WlcCmxCqSpnq"
      },
      "execution_count": null,
      "outputs": []
    },
    {
      "cell_type": "markdown",
      "source": [
        "## 🏁 Discusión\n",
        "\n",
        "1. ¿Qué métricas y dimensiones tiene esta tabla?\n",
        "2. ¿Cuántas observaciones por año contiene?"
      ],
      "metadata": {
        "id": "u0kv6IozS9jr"
      }
    },
    {
      "cell_type": "code",
      "source": [
        "cubo.info()"
      ],
      "metadata": {
        "id": "70YFV-3HV1kC"
      },
      "execution_count": null,
      "outputs": []
    },
    {
      "cell_type": "markdown",
      "source": [
        "## 🍎 Desafío\n",
        "\n",
        "Cree una tabla de contingencia para reportar la oferta y demanda por año y especialidad"
      ],
      "metadata": {
        "id": "e5R0c0TzHr6T"
      }
    },
    {
      "cell_type": "code",
      "source": [],
      "metadata": {
        "id": "4eREdyvuHuHE"
      },
      "execution_count": null,
      "outputs": []
    },
    {
      "cell_type": "markdown",
      "source": [
        "# Graficar series de tiempo\n",
        "Construyamos un gráfico de la serie de tiempo con interactividad básica"
      ],
      "metadata": {
        "id": "YiPoGq6SS9iZ"
      }
    },
    {
      "cell_type": "code",
      "source": [
        "# Veamos que necesitamos procesar los datos para visualizarlos adecuadamente\n",
        "\n",
        "# prompt: genera un gráfico de Oferta_consultas por periodo desglosado por Centro_siglas\n",
        "\n",
        "# Generar el gráfico\n",
        "fig = px.line(cubo,\n",
        "              x=\"Periodo\",\n",
        "              y=\"Oferta_consultas\",\n",
        "              color=\"Centro_siglas\",\n",
        "              title=\"Oferta de Consultas por Periodo y Centro\")\n",
        "\n",
        "fig.show()"
      ],
      "metadata": {
        "id": "uWcddis0S8F6"
      },
      "execution_count": null,
      "outputs": []
    },
    {
      "cell_type": "markdown",
      "source": [
        "## 🏁 Discusión\n",
        "¿Porqué se ve así la serie de tiempo *Oferta_consultas*?"
      ],
      "metadata": {
        "id": "PCgxII0chMmf"
      }
    },
    {
      "cell_type": "code",
      "source": [
        "serie = cubo.groupby(['Periodo','Centro_siglas']).agg({'Oferta_consultas':'sum'}).reset_index()\n",
        "\n",
        "# Generar el gráfico\n",
        "fig = px.line(serie,\n",
        "              x=\"Periodo\",\n",
        "              y=\"Oferta_consultas\",\n",
        "              color=\"Centro_siglas\",\n",
        "              title=\"Oferta de Consultas por Periodo y Centro\")\n",
        "\n",
        "fig.show()"
      ],
      "metadata": {
        "id": "d4iq_gipXyTz"
      },
      "execution_count": null,
      "outputs": []
    },
    {
      "cell_type": "markdown",
      "source": [
        "## Gráfico interactivo\n",
        "\n",
        "Para explorar las series, en vez de generar un script y un extracto para visualizar cada serie, podemos crear una función que reciba como parámetro la serie que queremos visualizar."
      ],
      "metadata": {
        "id": "NWbmhyNubrpH"
      }
    },
    {
      "cell_type": "code",
      "source": [
        "# Generamos una función que toma como parámetro el nombre de la serie:\n",
        "# 'Consultas_producidas', 'Consultas_inasistencia', 'Oferta_consultas', 'Consultas_solicitadas', 'Lista_espera_inicial'\n",
        "\n",
        "def graficar_serie(serie):\n",
        "\n",
        "  df = cubo.groupby(['Periodo','Centro_siglas']).agg({serie:'sum'}).reset_index()\n",
        "\n",
        "  # Generar el gráfico\n",
        "  fig = px.line(df,\n",
        "                x=\"Periodo\",\n",
        "                y=serie,\n",
        "                color=\"Centro_siglas\",\n",
        "                title=serie+'  por Periodo y Centro')\n",
        "  fig.show()\n"
      ],
      "metadata": {
        "id": "IBnk9_lxcc7C"
      },
      "execution_count": null,
      "outputs": []
    },
    {
      "cell_type": "code",
      "source": [
        "# Ejecutamos la función\n",
        "\n",
        "graficar_serie('Consultas_producidas')"
      ],
      "metadata": {
        "id": "9U5jmmBMIL_f"
      },
      "execution_count": null,
      "outputs": []
    },
    {
      "cell_type": "code",
      "source": [
        "# También podemos agregar un parámetro que permita filtrar por especialidad\n",
        "\n",
        "def graficar_serie(serie, especialidad):\n",
        "\n",
        "  # generamos una variable para filtrar por especialidad\n",
        "  filtro_especialidad = (cubo['Especialidad']==especialidad)\n",
        "  df = cubo[filtro_especialidad].copy()\n",
        "\n",
        "  df = cubo.groupby(['Periodo','Centro_siglas']).agg({serie:'sum'}).reset_index()\n",
        "  if serie == 'Lista_espera_inicial': df[serie] = df[serie]/3     # métrica no es aditiva al agregar por trimestre (3 meses)\n",
        "\n",
        "\n",
        "  # Generar el gráfico\n",
        "  titulo = serie+'  por Periodo y Centro ('+especialidad+')'\n",
        "  fig = px.line(df,\n",
        "                x=\"Periodo\",\n",
        "                y=serie,\n",
        "                color=\"Centro_siglas\",\n",
        "                title=titulo)\n",
        "  fig.show()\n"
      ],
      "metadata": {
        "id": "F-yUGYUPeYBM"
      },
      "execution_count": null,
      "outputs": []
    },
    {
      "cell_type": "code",
      "source": [
        "# Ejecutamos la función para un caso\n",
        "\n",
        "graficar_serie('Oferta_consultas', 'DERMATOLOGIA')"
      ],
      "metadata": {
        "id": "-KoZR80fIieJ"
      },
      "execution_count": null,
      "outputs": []
    },
    {
      "cell_type": "markdown",
      "source": [
        "## 🍎 Desafíos\n",
        "\n",
        "1. Explore otras series de tiempo cambiando los parámetros serie y/o especialidad. Ejecutando `cubo.Especialidad.unique()` puede obtener el listado de las especialidades\n",
        "2. Agregue un parámetro a la función *graficar_serie* que permita filtrar los datos para un año específico"
      ],
      "metadata": {
        "id": "xwBC7pCW5RNi"
      }
    },
    {
      "cell_type": "code",
      "source": [],
      "metadata": {
        "id": "UBF0RPaBmL_C"
      },
      "execution_count": null,
      "outputs": []
    },
    {
      "cell_type": "code",
      "source": [],
      "metadata": {
        "id": "CHuEA0yZb-DG"
      },
      "execution_count": null,
      "outputs": []
    },
    {
      "cell_type": "markdown",
      "source": [
        "## Desglosar por establecimiento"
      ],
      "metadata": {
        "id": "dHPjporpQV6Q"
      }
    },
    {
      "cell_type": "code",
      "source": [
        "# prompt: modify 'graficar_series' so that each chart is next to each other sharing y axis\n",
        "\n",
        "def graficar_serie_especialidad(serie, especialidad, anio):\n",
        "\n",
        "  # generamos una variable para filtrar por especialidad y otra para el año\n",
        "  filtro_especialidad = (cubo['Especialidad']==especialidad)\n",
        "  filtro_año = (cubo['Año']==anio)\n",
        "  df = cubo[filtro_especialidad & filtro_año].copy()\n",
        "\n",
        "  # Obtenemos el listado de centros en 'Centro_siglas'\n",
        "  centros = df['Centro_siglas'].unique()\n",
        "\n",
        "  # Generamos una grilla de gráficos\n",
        "  fig = make_subplots(rows=1, cols=len(centros), shared_yaxes=True,\n",
        "                      subplot_titles=[f\"{centro}\" for centro in centros])\n",
        "\n",
        "  # Generar serie por hospital y agregarlo a la grilla\n",
        "  for i, centro in enumerate(centros):\n",
        "    df_centro = df[df['Centro_siglas'] == centro].copy()\n",
        "\n",
        "    # Generamos la serie\n",
        "    df_centro = df_centro.groupby(['Periodo']).agg({serie:'sum'}).reset_index()\n",
        "    if serie == 'Lista_espera_inicial': df_centro[serie] = df_centro[serie]/3\n",
        "\n",
        "    fig.add_trace(go.Scatter(x=df_centro['Periodo'], y=df_centro[serie],\n",
        "                             mode='lines+markers', name=centro),\n",
        "                  row=1, col=i+1)\n",
        "\n",
        "  fig.update_layout(title_text=f\"{serie} por Periodo ({especialidad} {anio})\",\n",
        "                    yaxis_range=[0, None])\n",
        "  fig.show()"
      ],
      "metadata": {
        "id": "CUCUreUUiFq0"
      },
      "execution_count": null,
      "outputs": []
    },
    {
      "cell_type": "code",
      "source": [
        "graficar_serie_especialidad('Consultas_solicitadas', 'DERMATOLOGIA', 2021)"
      ],
      "metadata": {
        "id": "cEuu8MZloPXI"
      },
      "execution_count": null,
      "outputs": []
    },
    {
      "cell_type": "markdown",
      "source": [
        "## 🏁 Discusión\n",
        "\n",
        "1. ¿Qué ventajas y desventajas tiene generar las visualizaciones con un lenguaje de programación vs. realizarlos con Excel?\n",
        "2. ¿Qué ventajas y desventajas tiene analizar los datos utilizando funciones como *graficar_series*?"
      ],
      "metadata": {
        "id": "G85L45iWbFsX"
      }
    },
    {
      "cell_type": "markdown",
      "source": [
        "# Graficar brechas"
      ],
      "metadata": {
        "id": "HlfWkD-GkrNn"
      }
    },
    {
      "cell_type": "code",
      "source": [
        "def graficar_brechas(especialidad, anio):\n",
        "\n",
        "  # generamos variables para filtrar por especialidad y año\n",
        "  filtro_especialidad = (cubo['Especialidad']==especialidad)\n",
        "  filtro_anio = (cubo['Año']==anio)\n",
        "  df = cubo[filtro_especialidad & filtro_anio].copy()\n",
        "\n",
        "  df = df.groupby(['Periodo']).agg({'Oferta_consultas':'sum',\n",
        "                                    'Consultas_solicitadas':'sum',\n",
        "                                    'Lista_espera_inicial':'sum'}).reset_index()\n",
        "  df['Lista_espera_inicial'] = df['Lista_espera_inicial']/3\n",
        "\n",
        "  # Agregamos la Demanda y Oferta acumulada\n",
        "  df['Demanda_acumulada'] = df['Consultas_solicitadas'].cumsum()\n",
        "  df['Oferta_acumulada'] = df['Oferta_consultas'].cumsum()\n",
        "\n",
        "  # Generar el gráfico\n",
        "  fig = go.Figure()\n",
        "  fig.add_trace(go.Scatter(x=df['Periodo'], y=df['Lista_espera_inicial'],\n",
        "                         fill='tozeroy', name='Lista_espera_inicial',stackgroup='one'))\n",
        "  fig.add_trace(go.Scatter(x=df['Periodo'], y=df['Demanda_acumulada'],\n",
        "                         fill='tozeroy', name='Demanda_acumulada',stackgroup='one'))\n",
        "  fig.add_trace(go.Scatter(x=df['Periodo'], y=df['Oferta_acumulada'],\n",
        "                         mode='lines+markers', name='Oferta_acumulada'))\n",
        "  fig.update_layout(title_text=f\"Brechas por Periodo ({especialidad} {anio})\")\n",
        "  fig.show()"
      ],
      "metadata": {
        "id": "CCh02GFGBh9U"
      },
      "execution_count": null,
      "outputs": []
    },
    {
      "cell_type": "code",
      "source": [
        "graficar_brechas('PSIQUIATRIA ADULTO',2021)"
      ],
      "metadata": {
        "id": "2BQJK-U-I_LC"
      },
      "execution_count": null,
      "outputs": []
    },
    {
      "cell_type": "markdown",
      "source": [
        "Finalmente generamos una función para desglosar las brechas por establecimiento"
      ],
      "metadata": {
        "id": "W89G-C2XsqeI"
      }
    },
    {
      "cell_type": "code",
      "source": [
        "def graficar_brechas_centros(especialidad, anio):\n",
        "\n",
        "  # generamos una variable para filtrar por especialidad y otra para el año\n",
        "  filtro_especialidad = (cubo['Especialidad']==especialidad)\n",
        "  filtro_anio = (cubo['Año']==anio)\n",
        "  df = cubo[filtro_especialidad & filtro_anio].copy()\n",
        "\n",
        "  df = df.groupby(['Trimestre','Centro_siglas']).agg({'Oferta_consultas':'sum',\n",
        "                                    'Consultas_solicitadas':'sum',\n",
        "                                    'Lista_espera_inicial':'first'}).reset_index()\n",
        "\n",
        "  # Obtenemos el listado de centros en 'Centro_siglas'\n",
        "  centros = df['Centro_siglas'].unique()\n",
        "\n",
        "  # Generamos una grilla de gráficos\n",
        "  fig = make_subplots(rows=1, cols=len(centros), shared_yaxes=True,\n",
        "                      subplot_titles=[f\"{centro}\" for centro in centros])\n",
        "\n",
        "  # Generar gráfico por hospital y agregarlo a la grilla\n",
        "  for i, centro in enumerate(centros):\n",
        "\n",
        "      # Calculamos la Demanda y Oferta acumulada\n",
        "      df_centro = df[df['Centro_siglas'] == centro].copy()\n",
        "      df_centro.loc[:,'Demanda_acumulada'] = df_centro['Consultas_solicitadas'].cumsum()\n",
        "      df_centro.loc[:,'Oferta_acumulada'] = df_centro['Oferta_consultas'].cumsum()\n",
        "\n",
        "      # Generamos los gráficos\n",
        "      fig.add_trace(go.Scatter(x=df_centro['Trimestre'], y=df_centro['Oferta_acumulada'],\n",
        "                             mode='lines+markers', name='Oferta_acumulada',\n",
        "                               line_color='red',showlegend=(i==0)),\n",
        "                  row=1, col=i+1)\n",
        "      fig.add_trace(go.Scatter(x=df_centro['Trimestre'], y=df_centro['Lista_espera_inicial'],\n",
        "                             fill='tozeroy', name='Lista_espera_inicial',\n",
        "                               stackgroup='one',line_color='darkviolet',\n",
        "                               showlegend=(i==0)),\n",
        "                  row=1, col=i+1)\n",
        "      fig.add_trace(go.Scatter(x=df_centro['Trimestre'], y=df_centro['Demanda_acumulada'],\n",
        "                             fill='tozeroy', name='Demanda_acumulada',\n",
        "                               stackgroup='one',line_color='violet',\n",
        "                               showlegend=(i==0)),\n",
        "                  row=1, col=i+1)\n",
        "\n",
        "  # Agregamos título y publicamos\n",
        "  fig.update_layout(title_text=f\"Brechas por Periodo ({especialidad} {anio})\")\n",
        "  fig.show()\n"
      ],
      "metadata": {
        "id": "XILGgfaKEqRG"
      },
      "execution_count": null,
      "outputs": []
    },
    {
      "cell_type": "code",
      "source": [
        "# Construimos el gráfico para una especialidad\n",
        "\n",
        "graficar_brechas_centros('PSIQUIATRIA ADULTO',2021)"
      ],
      "metadata": {
        "id": "gYMQPeAXJiv8"
      },
      "execution_count": null,
      "outputs": []
    },
    {
      "cell_type": "markdown",
      "source": [
        "## 🍎 Desafíos\n",
        "1. Ejecute *generar_brechas_centros* para otra especialidad\n",
        "  - Ejecutando `cubo.Especialidad.unique()` puede obtener el listado de las especialidades\n",
        "1. Modifique alguna de las visualizaciones incorporando otras variables disponibles en el cubo.\n",
        "2. Genere otra visualización de las brechas que le parezca interesante para contrastar la demanda y oferta."
      ],
      "metadata": {
        "id": "6AcvMJUGpoeg"
      }
    },
    {
      "cell_type": "code",
      "source": [],
      "metadata": {
        "id": "Y8uAApLEqZAX"
      },
      "execution_count": null,
      "outputs": []
    },
    {
      "cell_type": "markdown",
      "source": [
        "## 🏁 Discusión\n",
        "\n",
        "1. ¿Qué tendría que hacer para reproducir el análisis con datos de 2024?\n",
        "4. ¿Qué tendría que hacer para replicar el análisis en otro Servicio de Salud?\n",
        "4. ¿Qué tendría que hacer si necesitara incorporar variables que no están en el cubo (ejemplo: solicitudes de interconsultas GES)?"
      ],
      "metadata": {
        "id": "Pd7QrB6azuM5"
      }
    }
  ]
}